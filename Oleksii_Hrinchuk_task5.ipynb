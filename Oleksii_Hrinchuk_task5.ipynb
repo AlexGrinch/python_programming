{
 "cells": [
  {
   "cell_type": "markdown",
   "metadata": {},
   "source": [
    "## Seminar 5: Deep Networks"
   ]
  },
  {
   "cell_type": "markdown",
   "metadata": {},
   "source": [
    "# Imports"
   ]
  },
  {
   "cell_type": "code",
   "execution_count": 1,
   "metadata": {
    "collapsed": false
   },
   "outputs": [
    {
     "name": "stderr",
     "output_type": "stream",
     "text": [
      "Using gpu device 0: GeForce GTX 970 (CNMeM is disabled, cuDNN 4007)\n"
     ]
    }
   ],
   "source": [
    "import numpy as np\n",
    "import theano\n",
    "import theano.tensor as T\n",
    "import lasagne\n",
    "import cPickle as pickle\n",
    "import os\n",
    "import matplotlib.pyplot as plt\n",
    "%matplotlib inline\n",
    "import scipy\n",
    "from scipy.misc import imread, imsave, imresize\n",
    "from lasagne.utils import floatX\n",
    "import cv2\n",
    "from sklearn.feature_extraction import DictVectorizer\n",
    "from sklearn.cross_validation import train_test_split\n",
    "import pandas as pd\n",
    "import time"
   ]
  },
  {
   "cell_type": "code",
   "execution_count": 3,
   "metadata": {
    "collapsed": false
   },
   "outputs": [],
   "source": [
    "from lasagne.layers import InputLayer\n",
    "from lasagne.layers import DenseLayer\n",
    "from lasagne.layers import NonlinearityLayer\n",
    "from lasagne.layers import DropoutLayer\n",
    "from lasagne.layers import Pool2DLayer as PoolLayer\n",
    "from lasagne.layers import Conv2DLayer as ConvLayer\n",
    "from lasagne.nonlinearities import rectify, softmax\n",
    "\n",
    "IMAGE_W = 224\n",
    "\n",
    "#vgg19 model\n",
    "#http://www.robots.ox.ac.uk/~vgg/research/very_deep/\n",
    "def build_model():\n",
    "    net = {}\n",
    "    net['input'] = InputLayer((None, 3, 224, 224))\n",
    "    net['conv1_1'] = ConvLayer(net['input'], 64, 3, pad=1, flip_filters=False)\n",
    "    net['conv1_2'] = ConvLayer(net['conv1_1'], 64, 3, pad=1, flip_filters=False)\n",
    "    net['pool1'] = PoolLayer(net['conv1_2'], 2)\n",
    "    net['conv2_1'] = ConvLayer(net['pool1'], 128, 3, pad=1, flip_filters=False)\n",
    "    net['conv2_2'] = ConvLayer(net['conv2_1'], 128, 3, pad=1, flip_filters=False)\n",
    "    net['pool2'] = PoolLayer(net['conv2_2'], 2)\n",
    "    net['conv3_1'] = ConvLayer(net['pool2'], 256, 3, pad=1, flip_filters=False)\n",
    "    net['conv3_2'] = ConvLayer(net['conv3_1'], 256, 3, pad=1, flip_filters=False)\n",
    "    net['conv3_3'] = ConvLayer(net['conv3_2'], 256, 3, pad=1, flip_filters=False)\n",
    "    net['conv3_4'] = ConvLayer(net['conv3_3'], 256, 3, pad=1, flip_filters=False)\n",
    "    net['pool3'] = PoolLayer(net['conv3_4'], 2)\n",
    "    net['conv4_1'] = ConvLayer(net['pool3'], 512, 3, pad=1, flip_filters=False)\n",
    "    net['conv4_2'] = ConvLayer(net['conv4_1'], 512, 3, pad=1, flip_filters=False)\n",
    "    net['conv4_3'] = ConvLayer(net['conv4_2'], 512, 3, pad=1, flip_filters=False)\n",
    "    net['conv4_4'] = ConvLayer(net['conv4_3'], 512, 3, pad=1, flip_filters=False)\n",
    "    net['pool4'] = PoolLayer(net['conv4_4'], 2)\n",
    "    net['conv5_1'] = ConvLayer(net['pool4'], 512, 3, pad=1, flip_filters=False)\n",
    "    net['conv5_2'] = ConvLayer(net['conv5_1'], 512, 3, pad=1, flip_filters=False)\n",
    "    net['conv5_3'] = ConvLayer(net['conv5_2'], 512, 3, pad=1, flip_filters=False)\n",
    "    net['conv5_4'] = ConvLayer(net['conv5_3'], 512, 3, pad=1, flip_filters=False)\n",
    "    net['pool5'] = PoolLayer(net['conv5_4'], 2)\n",
    "    net['fc6'] = DenseLayer(net['pool5'], num_units=4096)\n",
    "    #net['fc6_dropout'] = DropoutLayer(net['fc6'], p=0.5)\n",
    "    net['fc7'] = DenseLayer(net['fc6'], num_units=4096)\n",
    "    net['fc7_dropout'] = DropoutLayer(net['fc7'], p=0.5)\n",
    "    net['fc8'] = DenseLayer(net['fc7_dropout'], num_units=1000, nonlinearity=None)\n",
    "    net['prob'] = NonlinearityLayer(net['fc8'], softmax)\n",
    "    return net"
   ]
  },
  {
   "cell_type": "code",
   "execution_count": 4,
   "metadata": {
    "collapsed": false
   },
   "outputs": [
    {
     "name": "stdout",
     "output_type": "stream",
     "text": [
      "ostrich, Struthio camelus\n"
     ]
    }
   ],
   "source": [
    "#classes' names are stored here\n",
    "classes = pickle.load(open('classes.pkl'))\n",
    "#for example, 10th class is ostrich:\n",
    "print classes[9]"
   ]
  },
  {
   "cell_type": "markdown",
   "metadata": {},
   "source": [
    "You have to implement two functions in the cell below.\n",
    "\n",
    "Preprocess function should take the image with shape (w, h, 3) and transform it into a tensor with shape (1, 3, 224, 224). Without this transformation, vgg19 won't be able to digest input image. \n",
    "Additionally, your preprocessing function have to rearrange channels RGB -> BGR and subtract mean values from every channel."
   ]
  },
  {
   "cell_type": "code",
   "execution_count": 5,
   "metadata": {
    "collapsed": false
   },
   "outputs": [
    {
     "name": "stdout",
     "output_type": "stream",
     "text": [
      "0.000854863264394\n"
     ]
    }
   ],
   "source": [
    "MEAN_VALUES = np.array([104, 117, 123], dtype='float32')\n",
    "IMAGE_W = 224\n",
    "\n",
    "def preprocess(img):\n",
    "    t_img = np.zeros((1, 3, IMAGE_W, IMAGE_W), dtype='float32')\n",
    "    t_img[0,0,:,:] = cv2.resize(img[:,:,2], (IMAGE_W, IMAGE_W)) - MEAN_VALUES[0]\n",
    "    t_img[0,1,:,:] = cv2.resize(img[:,:,1], (IMAGE_W, IMAGE_W)) - MEAN_VALUES[1]\n",
    "    t_img[0,2,:,:] = cv2.resize(img[:,:,0], (IMAGE_W, IMAGE_W)) - MEAN_VALUES[2]\n",
    "    return floatX(t_img)\n",
    "\n",
    "def deprocess(t_img):\n",
    "    img = np.zeros((IMAGE_W, IMAGE_W, 3), dtype='float32')\n",
    "    img[:,:,0] = cv2.resize(t_img[0,2,:,:], (IMAGE_W, IMAGE_W)) + MEAN_VALUES[2]\n",
    "    img[:,:,1] = cv2.resize(t_img[0,1,:,:], (IMAGE_W, IMAGE_W)) + MEAN_VALUES[1]\n",
    "    img[:,:,2] = cv2.resize(t_img[0,0,:,:], (IMAGE_W, IMAGE_W)) + MEAN_VALUES[0]\n",
    "    return floatX(img)\n",
    "\n",
    "img = np.random.rand(IMAGE_W, IMAGE_W, 3)\n",
    "\n",
    "print np.linalg.norm(deprocess(preprocess(img)) - img)"
   ]
  },
  {
   "cell_type": "markdown",
   "metadata": {},
   "source": [
    "If your implementation is correct, the number above will be small, because deprocess function is the inverse of preprocess function"
   ]
  },
  {
   "cell_type": "code",
   "execution_count": 6,
   "metadata": {
    "collapsed": false
   },
   "outputs": [],
   "source": [
    "#load model weights\n",
    "#vgg19.npz is available for download at\n",
    "#https://yadi.sk/d/UQPXeM_GqEmGg\n",
    "net = build_model()\n",
    "params = np.load('vgg19.npz')['params']\n",
    "for i in xrange(32,len(params)):\n",
    "    params[i] = params[i].T\n",
    "lasagne.layers.set_all_param_values(net.values(), params)"
   ]
  },
  {
   "cell_type": "code",
   "execution_count": 6,
   "metadata": {
    "collapsed": false
   },
   "outputs": [],
   "source": [
    "input_image = T.tensor4('input')\n",
    "output = lasagne.layers.get_output(net['prob'], input_image, deterministic=True)\n",
    "prob = theano.function([input_image], output) "
   ]
  },
  {
   "cell_type": "markdown",
   "metadata": {},
   "source": [
    "In the cell below, you can test your preprocessing function on some sample images. If it is implemented correctly, **albatross.jpg** will be classified as albatross with 99.9% certainty, and with other pictures the network will produce mostly meaningful result.\n",
    "\n",
    "You can notice that network output varies from run to run. This behaviour can be supressed with help of \"deterministic\" keyword in get_output function in the cell above."
   ]
  },
  {
   "cell_type": "code",
   "execution_count": 7,
   "metadata": {
    "collapsed": false
   },
   "outputs": [
    {
     "data": {
      "image/png": "[encoded data removed]",
      "text/plain": [
       "<matplotlib.figure.Figure at 0x7f9497b91f10>"
      ]
     },
     "metadata": {},
     "output_type": "display_data"
    },
    {
     "name": "stdout",
     "output_type": "stream",
     "text": [
      "top-5 classes are:\n",
      "0.998435\talbatross\n",
      "0.001543\tgoose\n",
      "0.000007\tAmerican egret\n",
      "0.000006\tptarmigan\n",
      "0.000002\tAmerican coot\n"
     ]
    }
   ],
   "source": [
    "img = imread('sample_images/albatross.jpg')\n",
    "plt.imshow(img)\n",
    "plt.show()\n",
    "\n",
    "p = prob(preprocess(img))\n",
    "\n",
    "labels = p.ravel().argsort()[-1:-6:-1]\n",
    "print 'top-5 classes are:'\n",
    "for l in labels:\n",
    "    print '%3f\\t%s' % (p.ravel()[l], classes[l].split(',')[0])"
   ]
  },
  {
   "cell_type": "markdown",
   "metadata": {},
   "source": [
    "Now, use vgg19 network and your knowledge of machine learning to classify cats and dogs!\n",
    "\n",
    "data: https://yadi.sk/d/m6ZO4BvWqEmR9\n",
    "\n",
    "**catsvsdogs/val/** validation images\n",
    "\n",
    "**catsvsdogs/val_labels.pickle** labels for validation images, sorted by filename\n",
    "\n",
    "**catsvsdogs/test/** test images\n",
    "\n",
    "You have to implement classification algorithm, tune it on validation images, save output of your algorithm on test images in form of pickled file, as shown below. Your results, as well as this notebook, have to be attached to your letter to rdlclass@yandex.ru\n",
    "\n",
    "I expect classification accuracy >95%, or >90% at least\n",
    "\n",
    "Cheating is not allowed"
   ]
  },
  {
   "cell_type": "code",
   "execution_count": 7,
   "metadata": {
    "collapsed": true
   },
   "outputs": [],
   "source": [
    "def iterate_minibatches(X, y, batchsize):\n",
    "    indices = np.arange(X.shape[0])\n",
    "    np.random.shuffle(indices)\n",
    "    for start_ind in range(0, len(X) - batchsize +1, batchsize):\n",
    "        excerpt = indices[start_ind:start_ind + batchsize]\n",
    "        yield X[excerpt], y[excerpt]"
   ]
  },
  {
   "cell_type": "code",
   "execution_count": 8,
   "metadata": {
    "collapsed": true
   },
   "outputs": [],
   "source": [
    "net['prob'] = DenseLayer(net['fc7'], num_units = 2, nonlinearity = lasagne.nonlinearities.softmax)"
   ]
  },
  {
   "cell_type": "code",
   "execution_count": 9,
   "metadata": {
    "collapsed": false
   },
   "outputs": [],
   "source": [
    "input_X = T.tensor4('input')\n",
    "target_y = T.matrix(\"target Y integer\",dtype='int32')\n",
    "\n",
    "#network prediction (theano-transformation)\n",
    "y_predicted = lasagne.layers.get_output(net['prob'], input_X)\n",
    "\n",
    "#all network weights (shared variables)\n",
    "all_weights = lasagne.layers.get_all_params(net['prob'], trainable=True)\n",
    "\n",
    "#network loss\n",
    "loss = lasagne.objectives.categorical_crossentropy(y_predicted,target_y).mean()\n",
    "\n",
    "#network accuaracy\n",
    "accuracy = lasagne.objectives.categorical_accuracy(y_predicted,target_y).mean()\n",
    "\n",
    "#gradient descent form\n",
    "updates = lasagne.updates.adagrad(loss, all_weights, learning_rate=1e-4, epsilon=1e-6)"
   ]
  },
  {
   "cell_type": "code",
   "execution_count": 10,
   "metadata": {
    "collapsed": true
   },
   "outputs": [],
   "source": [
    "#A function that accepts X and y, returns loss functions and performs weight updates\n",
    "train_fun = theano.function([input_X,target_y],[loss,accuracy],updates=updates)\n",
    "\n",
    "#A function that just computes accuracy given X and y\n",
    "accuracy_fun = theano.function([input_X,target_y],accuracy)\n",
    "\n",
    "#A function that computes probabilities given X\n",
    "prob_fun = theano.function([input_X], y_predicted) "
   ]
  },
  {
   "cell_type": "code",
   "execution_count": 11,
   "metadata": {
    "collapsed": false
   },
   "outputs": [],
   "source": [
    "#features = lasagne.layers.get_output(net['fc8'], input_X)\n",
    "#extract_features = theano.function([input_X], features)\n",
    "\n",
    "path = 'catsvsdogs/val/'\n",
    "files = sorted(os.listdir(path))\n",
    "X = []\n",
    "for f in files:\n",
    "    img = imread(path + f)\n",
    "    X.append(preprocess(img)[0,:,:,:])\n",
    "    \n",
    "X = np.array(X)\n",
    "y = np.array(pickle.load(open(\"catsvsdogs/val_labels.pickle\", \"rb\")))\n",
    "\n",
    "dv = DictVectorizer(sparse=False) \n",
    "df = pd.DataFrame(y)\n",
    "y = dv.fit_transform(df.to_dict(orient='records'))\n",
    "y = np.array(y, dtype='int32')\n",
    "\n",
    "X_train, X_val, y_train, y_val = train_test_split(X, y, test_size=0)"
   ]
  },
  {
   "cell_type": "code",
   "execution_count": 12,
   "metadata": {
    "collapsed": false
   },
   "outputs": [
    {
     "name": "stdout",
     "output_type": "stream",
     "text": [
      "Epoch 1 of 15 took 10.057s\n",
      "  training loss (in-iteration):\t\t0.619352\n",
      "  train accuracy:\t\t76.00 %\n",
      "Epoch 2 of 15 took 10.107s\n",
      "  training loss (in-iteration):\t\t0.020872\n",
      "  train accuracy:\t\t99.00 %\n",
      "Epoch 3 of 15 took 10.101s\n",
      "  training loss (in-iteration):\t\t0.000460\n",
      "  train accuracy:\t\t100.00 %\n",
      "Epoch 4 of 15 took 10.085s\n",
      "  training loss (in-iteration):\t\t0.000296\n",
      "  train accuracy:\t\t100.00 %\n",
      "Epoch 5 of 15 took 10.091s\n",
      "  training loss (in-iteration):\t\t0.000227\n",
      "  train accuracy:\t\t100.00 %\n",
      "Epoch 6 of 15 took 10.205s\n",
      "  training loss (in-iteration):\t\t0.000187\n",
      "  train accuracy:\t\t100.00 %\n",
      "Epoch 7 of 15 took 10.148s\n",
      "  training loss (in-iteration):\t\t0.000159\n",
      "  train accuracy:\t\t100.00 %\n",
      "Epoch 8 of 15 took 10.137s\n",
      "  training loss (in-iteration):\t\t0.000139\n",
      "  train accuracy:\t\t100.00 %\n",
      "Epoch 9 of 15 took 10.132s\n",
      "  training loss (in-iteration):\t\t0.000123\n",
      "  train accuracy:\t\t100.00 %\n",
      "Epoch 10 of 15 took 10.128s\n",
      "  training loss (in-iteration):\t\t0.000110\n",
      "  train accuracy:\t\t100.00 %\n",
      "Epoch 11 of 15 took 10.151s\n",
      "  training loss (in-iteration):\t\t0.000100\n",
      "  train accuracy:\t\t100.00 %\n",
      "Epoch 12 of 15 took 10.152s\n",
      "  training loss (in-iteration):\t\t0.000092\n",
      "  train accuracy:\t\t100.00 %\n",
      "Epoch 13 of 15 took 10.152s\n",
      "  training loss (in-iteration):\t\t0.000085\n",
      "  train accuracy:\t\t100.00 %\n",
      "Epoch 14 of 15 took 10.142s\n",
      "  training loss (in-iteration):\t\t0.000079\n",
      "  train accuracy:\t\t100.00 %\n",
      "Epoch 15 of 15 took 10.210s\n",
      "  training loss (in-iteration):\t\t0.000074\n",
      "  train accuracy:\t\t100.00 %\n"
     ]
    }
   ],
   "source": [
    "num_epochs = 15\n",
    "\n",
    "batch_size = 5\n",
    "\n",
    "for epoch in xrange(num_epochs):\n",
    "    # In each epoch, we do a full pass over the training data:\n",
    "    train_err = 0\n",
    "    train_acc = 0\n",
    "    train_batches = 0\n",
    "    start_time = time.time()\n",
    "    for batch in iterate_minibatches(X_train, y_train, batch_size):\n",
    "        inputs, targets = batch\n",
    "        train_err_batch, train_acc_batch= train_fun(inputs, targets)\n",
    "        train_err += train_err_batch\n",
    "        train_acc += train_acc_batch\n",
    "        train_batches += 1\n",
    "\n",
    "    # And a full pass over the validation data:\n",
    "    #val_acc = 0\n",
    "    #val_batches = 0\n",
    "    #for batch in iterate_minibatches(X_val, y_val, batch_size):\n",
    "        #inputs, targets = batch\n",
    "        #val_acc += accuracy_fun(inputs, targets)\n",
    "        #val_batches += 1\n",
    "\n",
    "    # Then we print the results for this epoch:\n",
    "    print(\"Epoch {} of {} took {:.3f}s\".format(\n",
    "        epoch + 1, num_epochs, time.time() - start_time))\n",
    "\n",
    "    print(\"  training loss (in-iteration):\\t\\t{:.6f}\".format(train_err / train_batches))\n",
    "    print(\"  train accuracy:\\t\\t{:.2f} %\".format(\n",
    "        train_acc / train_batches * 100))\n",
    "    #print(\"  validation accuracy:\\t\\t{:.2f} %\".format(\n",
    "        #val_acc / val_batches * 100))"
   ]
  },
  {
   "cell_type": "code",
   "execution_count": 13,
   "metadata": {
    "collapsed": true
   },
   "outputs": [],
   "source": [
    "def classify(img):\n",
    "    \n",
    "    x = preprocess(img)\n",
    "    p = prob_fun(x)\n",
    "    \n",
    "    if (p[0,0]>p[0,1]):\n",
    "        return 'cat'\n",
    "    else:\n",
    "        return 'dog'"
   ]
  },
  {
   "cell_type": "code",
   "execution_count": 14,
   "metadata": {
    "collapsed": false
   },
   "outputs": [],
   "source": [
    "path = 'catsvsdogs/test/'\n",
    "files = sorted(os.listdir(path))\n",
    "\n",
    "labels = []\n",
    "\n",
    "for f in files:\n",
    "    img = imread(path + f)\n",
    "    label = classify(img)\n",
    "    labels.append(label)\n",
    "    \n",
    "pickle.dump(labels, open('test_labels.pickle', 'wb'))"
   ]
  },
  {
   "cell_type": "code",
   "execution_count": 15,
   "metadata": {
    "collapsed": true
   },
   "outputs": [],
   "source": [
    "report = pd.DataFrame({'image_id':range(400), 'label':labels})\n",
    "report.to_csv('submission.csv', index=False)"
   ]
  },
  {
   "cell_type": "markdown",
   "metadata": {},
   "source": [
    "## Visualizations\n",
    "\n",
    "It is easy to visualize the weights of the first convolutional layer:"
   ]
  },
  {
   "cell_type": "code",
   "execution_count": 16,
   "metadata": {
    "collapsed": false
   },
   "outputs": [
    {
     "data": {
      "image/png": "[encoded data removed]",
      "text/plain": [
       "<matplotlib.figure.Figure at 0x7f4cf163a810>"
      ]
     },
     "metadata": {},
     "output_type": "display_data"
    }
   ],
   "source": [
    "w = np.array(net['conv1_1'].W.eval().copy())\n",
    "w -= w.min()\n",
    "w /= w.max()\n",
    "plt.figure(figsize=(10, 10))\n",
    "for i in xrange(1, 9):\n",
    "    for j in xrange(1, 9):\n",
    "        n = 8*j + i\n",
    "        if n < 64:\n",
    "            plt.subplot(8,8,n)\n",
    "            plt.axis('off')\n",
    "            plt.imshow(w[n,:,:,:].transpose((1,2,0)), interpolation='none')\n",
    "plt.show()"
   ]
  },
  {
   "cell_type": "markdown",
   "metadata": {},
   "source": [
    "On higher layers, filters have more than 3 channels, so it is impossible to visualize them directly. However, of we want to understand something about features on higher layers, it is possible to visualize them via optimization of the input image.\n",
    "\n",
    "Namely, we can solve the following problem\n",
    "\n",
    "$$J=\\mathrm{argmax} \\left( n^i_{xyc}(I) \\right)$$\n",
    "\n",
    "there $n^i_{xyc}$ is the activation of neuron on $i$'th layer in position $x$,$y$,$c$ given input image $I$.\n",
    "Basically, $J$ is the answer on a question \"what our neuron is looking for?\""
   ]
  },
  {
   "cell_type": "code",
   "execution_count": 17,
   "metadata": {
    "collapsed": false
   },
   "outputs": [
    {
     "name": "stderr",
     "output_type": "stream",
     "text": [
      "/home/user/anaconda2/lib/python2.7/site-packages/ipykernel/__main__.py:8: DeprecationWarning: Division of two integer types with x / y is deprecated, please use x // y for an integer division.\n",
      "/home/user/anaconda2/lib/python2.7/site-packages/ipykernel/__main__.py:9: DeprecationWarning: Division of two integer types with x / y is deprecated, please use x // y for an integer division.\n"
     ]
    }
   ],
   "source": [
    "generated_image = theano.shared(floatX(np.zeros((1, 3, IMAGE_W, IMAGE_W))))\n",
    "gen_features = lasagne.layers.get_output(net.values(), generated_image)\n",
    "gen_features = {k: v for k, v in zip(net.keys(), gen_features)}\n",
    "\n",
    "layer_name = 'pool1'\n",
    "c = 0\n",
    "blob_width = gen_features[layer_name].shape[2]\n",
    "x = blob_width/2\n",
    "y = blob_width/2\n",
    "activation_loss = 1e10*(1e1 - gen_features[layer_name][0, c, x, y])**2\n",
    "\n",
    "tv_loss = T.mean(T.abs_(generated_image[:,:,1:,1:] - generated_image[:,:,:-1,1:]) +\n",
    "                 T.abs_(generated_image[:,:,1:,1:] - generated_image[:,:,1:,:-1]))\n",
    "\n",
    "loss = activation_loss + 1.0 * tv_loss\n",
    "\n",
    "grad = T.grad(loss, generated_image)\n",
    "\n",
    "f_loss = theano.function([], loss)\n",
    "f_grad = theano.function([], grad)\n",
    "\n",
    "# Helper functions to interface with scipy.optimize\n",
    "def eval_loss(x0):\n",
    "    x_ = floatX(x0.reshape((1, 3, IMAGE_W, IMAGE_W)))\n",
    "    generated_image.set_value(x_)\n",
    "    return f_loss().astype('float64')\n",
    "\n",
    "def eval_grad(x0):\n",
    "    x0 = floatX(x0.reshape((1, 3, IMAGE_W, IMAGE_W)))\n",
    "    generated_image.set_value(x0)\n",
    "    return np.array(f_grad()).flatten().astype('float64')"
   ]
  },
  {
   "cell_type": "code",
   "execution_count": 18,
   "metadata": {
    "collapsed": false
   },
   "outputs": [],
   "source": [
    "#run input image optimization via scipy.optimize.fmin_l_bfgs_b\n",
    "generated_image.set_value(floatX(np.zeros((1, 3, IMAGE_W, IMAGE_W))))\n",
    "x0 = generated_image.get_value().astype('float64')\n",
    "status = scipy.optimize.fmin_l_bfgs_b(eval_loss, x0.flatten(), fprime=eval_grad, maxfun=20)\n",
    "x0 = generated_image.get_value().astype('float64')"
   ]
  },
  {
   "cell_type": "markdown",
   "metadata": {},
   "source": [
    "If your **deprocess** function is implemented correctly, you'll see that the neuron on the first pooling layer is looking for. The result should look like gabor filter, simular to ones found in the first layer of networks with large filters, such as AlexNet."
   ]
  },
  {
   "cell_type": "code",
   "execution_count": 19,
   "metadata": {
    "collapsed": false
   },
   "outputs": [
    {
     "data": {
      "image/png": "[encoded data removed]",
      "text/plain": [
       "<matplotlib.figure.Figure at 0x7f4cbf88d690>"
      ]
     },
     "metadata": {},
     "output_type": "display_data"
    },
    {
     "data": {
      "image/png": "[encoded data removed]",
      "text/plain": [
       "<matplotlib.figure.Figure at 0x7f4cc126b2d0>"
      ]
     },
     "metadata": {},
     "output_type": "display_data"
    },
    {
     "data": {
      "image/png": "[encoded data removed]",
      "text/plain": [
       "<matplotlib.figure.Figure at 0x7f4cbf7ff790>"
      ]
     },
     "metadata": {},
     "output_type": "display_data"
    },
    {
     "data": {
      "image/png": "[encoded data removed]",
      "text/plain": [
       "<matplotlib.figure.Figure at 0x7f4cbf6e6250>"
      ]
     },
     "metadata": {},
     "output_type": "display_data"
    },
    {
     "data": {
      "image/png": "[encoded data removed]",
      "text/plain": [
       "<matplotlib.figure.Figure at 0x7f4cbf60d150>"
      ]
     },
     "metadata": {},
     "output_type": "display_data"
    }
   ],
   "source": [
    "#show the results\n",
    "w = IMAGE_W\n",
    "for d in [112, 64, 32, 16, 8]:\n",
    "    pic = deprocess(x0)[w/2-d:w/2+d,w/2-d:w/2+d,:]\n",
    "    pic -= pic.min()\n",
    "    pic /= pic.max()\n",
    "    plt.imshow(pic, interpolation='None')\n",
    "    plt.show()"
   ]
  },
  {
   "cell_type": "markdown",
   "metadata": {},
   "source": [
    "Optional problem:\n",
    "Adjust the code above to work with neurons on fc8 layer.\n",
    "\n",
    "\n",
    "fc8 neurons are wired to output classes, so maximization of neuron value will produce an image which contains as much of given class (from the point of view of neural network) as possible. \n",
    "\n",
    "Examples of such images are shown at:\n",
    "\n",
    "http://yosinski.com/deepvis\n",
    "\n",
    "http://googleresearch.blogspot.ru/2015/06/inceptionism-going-deeper-into-neural.html\n",
    "\n",
    "http://auduno.com/post/125362849838/visualizing-googlenet-classes\n",
    "\n",
    "https://317070.github.io/Dream/"
   ]
  }
 ],
 "metadata": {
  "kernelspec": {
   "display_name": "Python 2",
   "language": "python",
   "name": "python2"
  },
  "language_info": {
   "codemirror_mode": {
    "name": "ipython",
    "version": 2
   },
   "file_extension": ".py",
   "mimetype": "text/x-python",
   "name": "python",
   "nbconvert_exporter": "python",
   "pygments_lexer": "ipython2",
   "version": "2.7.11"
  }
 },
 "nbformat": 4,
 "nbformat_minor": 0
}
