{
 "cells": [
  {
   "cell_type": "markdown",
   "metadata": {},
   "source": [
    "## Imports"
   ]
  },
  {
   "cell_type": "code",
   "execution_count": 1,
   "metadata": {
    "collapsed": true
   },
   "outputs": [],
   "source": [
    "%matplotlib inline\n",
    "\n",
    "import numpy as np\n",
    "import cvxpy as cvx\n",
    "import gurobipy as grb\n",
    "import scipy.io as sio\n",
    "\n",
    "import matplotlib.pyplot as plt\n",
    "from mpl_toolkits.mplot3d import Axes3D"
   ]
  },
  {
   "cell_type": "markdown",
   "metadata": {},
   "source": [
    "** Problem 1. ** *Censored data fitting* (2 points). "
   ]
  },
  {
   "cell_type": "markdown",
   "metadata": {},
   "source": [
    "### Solution"
   ]
  },
  {
   "cell_type": "markdown",
   "metadata": {},
   "source": [
    "Our goal is to find the model parameter $c$ and $y^{(M+1)},\\dots,y^{(K)}$ that minimize the following functional:\n",
    "\n",
    "$$\n",
    "J = \\sum_{i=1}^K (y^{(k)} - c^Tx^{(k)})^2 = \\|Y - X^T c\\|_2^2\n",
    "$$\n",
    "\n",
    "Including given constraints we can reformulate this problem as constrained linear least squares problem:\n",
    "\n",
    "$$\n",
    "\\begin{equation*}\n",
    "\\begin{aligned}\n",
    "& \\underset{Y,c}{\\text{minimize}}\n",
    "& & \\|Y - X^T c\\|_2 \\\\\n",
    "& \\text{subject to}\n",
    "& & Y_i = y^{(i)}, \\; i = 1, \\ldots, M, \\\\\n",
    "&&& Y_j \\geq D, \\; j = M+1, \\dots, K.\n",
    "\\end{aligned}\n",
    "\\end{equation*}\n",
    "$$"
   ]
  },
  {
   "cell_type": "code",
   "execution_count": 2,
   "metadata": {
    "collapsed": false
   },
   "outputs": [],
   "source": [
    "def censored_data_fitting(mat_contents):\n",
    "    \"\"\"Solve fitting problem with censored data.\"\"\"\n",
    "    \n",
    "    # parse data\n",
    "    D = mat_contents['D'][0, 0] \n",
    "    M = mat_contents['M'][0, 0] \n",
    "    X = mat_contents['X'] \n",
    "    c_true = mat_contents['c_true'][:, 0] \n",
    "    y = mat_contents['y'][:, 0]\n",
    "    K = X.shape[1]\n",
    "    n = X.shape[0]\n",
    "\n",
    "    # formulate and solve optimization problem with censored data\n",
    "    Y = cvx.Variable(K)\n",
    "    c1 = cvx.Variable(n)\n",
    "\n",
    "    constraints1 = [Y[:M] == y, Y[M:K] >= D]\n",
    "    objective1 = cvx.Minimize(cvx.sum_entries(cvx.square(Y - X.T*c1)))    \n",
    "    prob1 = cvx.Problem(objective1, constraints1)\n",
    "    \n",
    "    sol1 = prob1.solve()\n",
    "    eps1 = np.linalg.norm(c_true - np.array(c1.value).reshape(-1)) / np.linalg.norm(c_true)\n",
    "    \n",
    "    # formulate and solve optimization problem without censored data\n",
    "    c2 = cvx.Variable(n)\n",
    "    \n",
    "    constraints2 = []\n",
    "    objective2 = cvx.Minimize(cvx.sum_entries(cvx.square(y - X[:,:M].T*c2)))  \n",
    "    prob2 = cvx.Problem(objective2, constraints2)\n",
    "    \n",
    "    sol2 = prob2.solve()\n",
    "    eps2 = np.linalg.norm(c_true - np.array(c2.value).reshape(-1)) / np.linalg.norm(c_true)\n",
    "    \n",
    "    return eps1, eps2"
   ]
  },
  {
   "cell_type": "code",
   "execution_count": 3,
   "metadata": {
    "collapsed": false
   },
   "outputs": [
    {
     "data": {
      "text/plain": [
       "(0.17842359693489312, 0.39067672497165185)"
      ]
     },
     "execution_count": 3,
     "metadata": {},
     "output_type": "execute_result"
    }
   ],
   "source": [
    "mat_contents = sio.loadmat('cens_fit_data.mat') \n",
    "censored_data_fitting(mat_contents)"
   ]
  },
  {
   "cell_type": "markdown",
   "metadata": {},
   "source": [
    "As we see, relative error in the case when we consider censored data $(0.178)$ is lower than relative error of LLS without such consideration $(0.391)$."
   ]
  },
  {
   "cell_type": "markdown",
   "metadata": {},
   "source": [
    "---"
   ]
  },
  {
   "cell_type": "markdown",
   "metadata": {},
   "source": [
    "** Problem 2. ** *Optimal vehicle speed scheduling (3 points) *-- (additional exercise A3.20 to Boyd and Vandenberghe). \n",
    "\n",
    "A vehicle (say, an airplane) travels along a fixed path of $n$ segments, between $n + 1$ waypoints labeled $0, . . . , n$. Segment $i$ starts at waypoint $i − 1$ and terminates at waypoint $i$. The vehicle starts at time $t = 0$ at waypoint $0$. It travels over each segment at a constant (nonnegative) speed; $s_i$ is the speed on segment $i$. We have lower and upper limits on the speeds: $s_{min} \\leq s \\leq s_{max}$. The vehicle does not stop at the waypoints; it simply proceeds to the next segment. The travel distance of segment $i$ is $d_i$ (which is positive), so the travel time over segment $i$ is $\\frac{d_i}{s_i}$. We let $\\tau_i$, $i = 1, \\dots, n$, denote the time at which the vehicle arrives at waypoint $i$. The vehicle is required to arrive at waypoint $i$, for $i = 1, \\dots, n$, between times $\\tau_{min,i}$ and $\\tau_{max,i}$ , which are given. The vehicle consumes fuel over segment $i$ at a rate that depends on its speed $\\Phi(s_i)=a s_i^2+b s_i+c,~[\\Phi]=\\frac{kg}{s}$.\n",
    "\n",
    "You are given the data $d$ (segment travel distances), $s_{min}$ and $s_{max}$ (speed bounds), $\\tau_{min}$ and $\\tau_{max}$ (waypoint arrival time bounds), and the the parameters $a$, $b$, and $c$ (all parameters are in $\\textbf{veh_speed_sched_data.m}$). For the given form of the potentials, find the way to reduce the problem to a convex optimization problem and solve it using CVX (NB: you need not necessarily use one of the “canonical” convex optimization formulations we saw in the course). Use MATLAB command stairs to plot speed vs time for the optimal schedule.  What are relative pros and cons for using convex optimization vs. dynamic programming for such task?"
   ]
  },
  {
   "cell_type": "markdown",
   "metadata": {},
   "source": [
    "### Solution"
   ]
  },
  {
   "cell_type": "markdown",
   "metadata": {},
   "source": [
    "Let $\\tau_i$ be the time which our airplane spend to travel along $i_{th}$ segment. Then our problem has the following form:\n",
    "\n",
    "$$\n",
    "\\begin{equation*}\n",
    "\\begin{aligned}\n",
    "& \\underset{s,t}{\\text{minimize}}\n",
    "& & \\sum_{i=1}^n \\Phi(s_i) \\tau_i \\\\\n",
    "& \\text{subject to}\n",
    "& & \\tau_{min,i} \\leq \\sum_{k=1}^i \\tau_k \\leq \\tau_{max,i}, \\\\\n",
    "&&& s_{min,i} \\leq s_i \\leq s_{max,i}, \\\\\n",
    "&&& i = 1, \\dots, n.\n",
    "\\end{aligned}\n",
    "\\end{equation*}\n",
    "$$\n",
    "\n",
    "If we eliminate $s$ from our problem with the help of equations $d_i = s_i \\tau_i,~i=1,\\dots,n$, we will get the following problem:\n",
    "\n",
    "$$\n",
    "\\begin{equation*}\n",
    "\\begin{aligned}\n",
    "& \\underset{t}{\\text{minimize}}\n",
    "& & \\sum_{i=1}^n (a(\\frac{d_i}{\\tau_i})^2 + b\\frac{d_i}{\\tau_i} + c) \\tau_i \\\\\n",
    "& \\text{subject to}\n",
    "& & \\tau_{min,i} \\leq \\sum_{k=1}^i \\tau_k \\leq \\tau_{max,i}, \\\\\n",
    "&&& s_{min,i} \\leq \\frac{d_i}{\\tau_i} \\leq s_{max,i}, \\\\\n",
    "&&& i = 1, \\dots, n.\n",
    "\\end{aligned}\n",
    "\\end{equation*}\n",
    "$$\n",
    "\n",
    "Now we can rewrite this formulation and reduce the problem to a convex optimization problem:\n",
    "\n",
    "$$\n",
    "\\begin{equation*}\n",
    "\\begin{aligned}\n",
    "& \\underset{t}{\\text{minimize}}\n",
    "& & \\sum_{i=1}^n (\\frac{ad_i^2}{\\tau_i} + bd_i + c\\tau_i) \\\\\n",
    "& \\text{subject to}\n",
    "& & \\tau_{min,i} \\leq \\sum_{k=1}^i \\tau_k \\leq \\tau_{max,i}, \\\\\n",
    "&&& \\tau_i \\leq \\frac{d_i}{s_{min,i}}, \\\\\n",
    "&&& \\tau_i \\geq \\frac{d_i}{s_{max,i}}, \\\\\n",
    "&&& i = 1, \\dots, n.\n",
    "\\end{aligned}\n",
    "\\end{equation*}\n",
    "$$"
   ]
  },
  {
   "cell_type": "code",
   "execution_count": 4,
   "metadata": {
    "collapsed": true
   },
   "outputs": [],
   "source": [
    "def speed_scheduling(mat_contents, visualize=False):\n",
    "    \"\"\"Solve vehicle speed scheduling problem as convex ptimization problem.\"\"\"\n",
    "    \n",
    "    # parse data\n",
    "    a = mat_contents['a'][0, 0]\n",
    "    b = mat_contents['b'][0, 0]\n",
    "    c = mat_contents['c'][0, 0]\n",
    "    d = mat_contents['d']\n",
    "    n = mat_contents['n'][0, 0]\n",
    "    s_min = mat_contents['smin']\n",
    "    s_max = mat_contents['smax']\n",
    "    tau_min = mat_contents['tau_min']\n",
    "    tau_max = mat_contents['tau_max']\n",
    "    \n",
    "    # formulate and solve optimization problem  \n",
    "    tau = cvx.Variable(n)\n",
    "    \n",
    "    constraints = []\n",
    "    for i in xrange(n):\n",
    "        constraints.append(cvx.sum_entries(tau[:i+1]) >= tau_min[i])\n",
    "        constraints.append(cvx.sum_entries(tau[:i+1]) <= tau_max[i])\n",
    "        constraints.append(tau[i] <= d[i]/s_min[i])\n",
    "        constraints.append(tau[i] >= d[i]/s_max[i])\n",
    "    objective = cvx.Minimize(cvx.sum_entries(a*cvx.mul_elemwise(d*d,cvx.inv_pos(tau)) + c*tau + b*d))\n",
    "    \n",
    "    prob = cvx.Problem(objective, constraints)\n",
    "    prob.solve()\n",
    "    \n",
    "    # obtain solution of the problem\n",
    "    speed = d / tau.value\n",
    "    time = [tau.value[:i+1].sum() for i in xrange(n)]\n",
    "\n",
    "    # visualize obtained solution\n",
    "    if (visualize):\n",
    "        fig, ax = plt.subplots(figsize=(15, 5))\n",
    "        ax.step(time, speed, lw=2)\n",
    "        ax.set_xlabel(\"time\", fontsize=14)\n",
    "        ax.set_ylabel(\"speed\", fontsize=14)\n",
    "        ax.grid(True)\n",
    "        print \"Minimal amount of fuel is equal to\", objective.value\n",
    "        \n",
    "    return speed, time"
   ]
  },
  {
   "cell_type": "code",
   "execution_count": 5,
   "metadata": {
    "collapsed": false
   },
   "outputs": [
    {
     "name": "stdout",
     "output_type": "stream",
     "text": [
      "Minimal amount of fuel is equal to 2617.82519362\n"
     ]
    },
    {
     "data": {
      "image/png": "[encoded data removed]",
      "text/plain": [
       "<matplotlib.figure.Figure at 0x3fb9320>"
      ]
     },
     "metadata": {},
     "output_type": "display_data"
    }
   ],
   "source": [
    "mat_contents = sio.loadmat('veh_sched_data.mat')\n",
    "speed, time = speed_scheduling(mat_contents, visualize=True)"
   ]
  },
  {
   "cell_type": "markdown",
   "metadata": {},
   "source": [
    "---"
   ]
  },
  {
   "cell_type": "markdown",
   "metadata": {},
   "source": [
    "** Problem 3. ** Find the dual problem of the LP in a general form (simplify the dual problem):\n",
    "\n",
    "$$\n",
    "\\begin{equation*}\n",
    "\\begin{aligned}\n",
    "& \\underset{x}{\\text{minimize}}\n",
    "& & p^Tx \\\\\n",
    "& \\text{subject to}\n",
    "& & Ax \\leq b, \\\\\n",
    "&&& Cx = d. \\\\\n",
    "\\end{aligned}\n",
    "\\end{equation*}\n",
    "$$"
   ]
  },
  {
   "cell_type": "markdown",
   "metadata": {},
   "source": [
    "### Solution"
   ]
  },
  {
   "cell_type": "markdown",
   "metadata": {},
   "source": [
    "Let us write down Lagrangian of our problem:\n",
    "\n",
    "$$\n",
    "\\mathbf{L} = p^Tx + \\lambda_1^T (Ax-b) + \\lambda_2^T (Cx-d) = (p^T + \\lambda_1^TA + \\lambda_2^TC)x - (\\lambda_1^Tb + \\lambda_2^Tc)\n",
    "$$\n",
    "\n",
    "Looking at Lagrangian we can easily write down the dual problem:\n",
    "\n",
    "$$\n",
    "\\begin{equation*}\n",
    "\\begin{aligned}\n",
    "& \\underset{x}{\\text{maximize}}\n",
    "& & - (\\lambda_1^Tb + \\lambda_2^Tc) \\\\\n",
    "& \\text{subject to}\n",
    "& & p^T + \\lambda_1^TA + \\lambda_2^TC = 0, \\\\\n",
    "&&& \\lambda_1 \\geq 0. \\\\\n",
    "\\end{aligned}\n",
    "\\end{equation*}\n",
    "$$"
   ]
  },
  {
   "cell_type": "markdown",
   "metadata": {},
   "source": [
    "---"
   ]
  },
  {
   "cell_type": "markdown",
   "metadata": {},
   "source": [
    "** Problem 4. ** Consider the following convex quadratic program:\n",
    "\n",
    "$$\n",
    "\\begin{equation*}\n",
    "\\begin{aligned}\n",
    "& \\underset{x}{\\text{minimize}}\n",
    "& & (x_1^2+x_2^2-x_1x_2) \\\\\n",
    "& \\text{subject to}\n",
    "& & x_1 + 2x_2 \\geq 1, \\\\\n",
    "&&& 3x_1 + x_2 \\geq 1. \\\\\n",
    "\\end{aligned}\n",
    "\\end{equation*}\n",
    "$$\n",
    "\n",
    "Derive the dual program. Put both programs into CVX and solve them. Verify that the optimal values are the same. State the KKT conditions. Check that the optimal primal and dual variables satisfy them."
   ]
  },
  {
   "cell_type": "markdown",
   "metadata": {},
   "source": [
    "### Solution"
   ]
  },
  {
   "cell_type": "markdown",
   "metadata": {},
   "source": [
    "Let us rewrite our problem in matrix form:\n",
    "\n",
    "$$\n",
    "\\begin{equation*}\n",
    "\\begin{aligned}\n",
    "& \\underset{x}{\\text{minimize}}\n",
    "& & \\frac{1}{2}x^TAx \\\\\n",
    "& \\text{subject to}\n",
    "& & Cx \\geq b.\n",
    "\\end{aligned}\n",
    "\\end{equation*}\n",
    "$$\n",
    "\n",
    "where $A = \\begin{pmatrix} 2 & -1 \\\\ -1 & 2 \\end{pmatrix},\\;С = \\begin{pmatrix} 1 & 2 \\\\ 3 & 1 \\end{pmatrix},\\;b = \\begin{pmatrix} 1 \\\\ 1 \\end{pmatrix},\\;x=\\begin{pmatrix} x_1 \\\\ x_2 \\end{pmatrix}.$\n",
    "\n",
    "Lagrangian of this problem is\n",
    "\n",
    "$$\n",
    "\\mathbf{L} = \\frac{1}{2}x^TAx + \\lambda^T (b-Cx), \\\\\n",
    "\\frac{\\partial\\mathbf{L}}{\\partial x} = x^TA -\\lambda^TC = 0 \\Rightarrow x = (A^{-1})^TC^T\\lambda, \\\\\n",
    "\\mathbf{L} = \\frac{1}{2}\\lambda^TCA^{-1}Ax + \\lambda^T (b-Cx) = -\\frac{1}{2}\\lambda^TCx + \\lambda^Tb = -\\frac{1}{2}\\lambda^T(CA^{-1}C^T)\\lambda + \\lambda^Tb.\n",
    "$$\n",
    "\n",
    "The dual problem is:\n",
    "\n",
    "$$\n",
    "\\begin{equation*}\n",
    "\\begin{aligned}\n",
    "& \\underset{\\lambda}{\\text{maximize}}\n",
    "& & -\\frac{1}{2}\\lambda^T(CA^{-1}C^T)\\lambda + \\lambda^Tb \\\\\n",
    "& \\text{subject to}\n",
    "& & \\lambda \\geq 0.\n",
    "\\end{aligned}\n",
    "\\end{equation*}\n",
    "$$"
   ]
  },
  {
   "cell_type": "code",
   "execution_count": 6,
   "metadata": {
    "collapsed": false
   },
   "outputs": [],
   "source": [
    "A = np.array([[2, -1], [-1, 2]])\n",
    "C = np.array([[1, 2], [3, 1]])\n",
    "b = np.array([[1],[1]])\n",
    "\n",
    "def primal(A=A, C=C, b=b):\n",
    "    \"\"\"Solve primal CQP problem.\"\"\"\n",
    "    \n",
    "    x = cvx.Variable(2)\n",
    "    constraints = [C*x >= b]\n",
    "    objective = cvx.Minimize(cvx.quad_form(x,0.5*A))\n",
    "    prob = cvx.Problem(objective, constraints)\n",
    "    sol = prob.solve()\n",
    "    \n",
    "    return sol, x.value\n",
    "\n",
    "def dual(A=A, C=C, b=b):\n",
    "    \"\"\"Solve dual problem for our QCP problem.\"\"\"\n",
    "    \n",
    "    l = cvx.Variable(2)\n",
    "    P = 0.5*C.dot(np.linalg.inv(A).dot(C.T))\n",
    "    constraints = [l >= 0]\n",
    "    objective = cvx.Maximize(-cvx.quad_form(l, P) + l.T*b)\n",
    "    prob = cvx.Problem(objective, constraints)\n",
    "    sol = prob.solve()\n",
    "    \n",
    "    return sol, l.value"
   ]
  },
  {
   "cell_type": "code",
   "execution_count": 7,
   "metadata": {
    "collapsed": false
   },
   "outputs": [
    {
     "name": "stdout",
     "output_type": "stream",
     "text": [
      "Primal problem optimal value: 0.107142857081\n",
      "Dual problem optimal value: 0.107142857825\n"
     ]
    }
   ],
   "source": [
    "primal_obj, x = primal()\n",
    "dual_obj, l = dual()\n",
    "print \"Primal problem optimal value:\", primal_obj\n",
    "print \"Dual problem optimal value:\", dual_obj"
   ]
  },
  {
   "cell_type": "markdown",
   "metadata": {},
   "source": [
    "Karush-Kuhn-Tucker conditions for this problem:\n",
    "\n",
    "$$\n",
    "\\begin{cases}\n",
    "Cx^* \\geq b,\\;\\text{(primal feasibility)}\\\\\n",
    "\\lambda^* \\geq 0,\\;\\text{(dual feasibility)}\\\\\n",
    "x^{*T}A - \\lambda^{*T}C = 0,\\;\\text{(vanishing gradient)}\\\\\n",
    "\\lambda_i^{*}(b-Cx)_i=0,\\;i=1,2.\\;\\text{(complementary slackness)}\n",
    "\\end{cases}\n",
    "$$"
   ]
  },
  {
   "cell_type": "code",
   "execution_count": 8,
   "metadata": {
    "collapsed": false
   },
   "outputs": [
    {
     "name": "stdout",
     "output_type": "stream",
     "text": [
      "Primal feasibility: True\n",
      "Dual feasibility: True\n",
      "Vanishing gradient: [[ -1.86910457e-06  -2.41874104e-06]]\n",
      "Complementary slackness [[  8.80158829e-13]] [[ -2.52107566e-10]]\n"
     ]
    }
   ],
   "source": [
    "eps = 1e-10\n",
    "print \"Primal feasibility:\", (C.dot(x)+eps >= b).min()\n",
    "print \"Dual feasibility:\", (l+eps >= 0).min()\n",
    "print \"Vanishing gradient:\", (x.T.dot(A) - l.T.dot(C))\n",
    "print \"Complementary slackness\", l[0]*(b-C.dot(x))[0], l[1]*(b-C.dot(x))[1]"
   ]
  },
  {
   "cell_type": "markdown",
   "metadata": {},
   "source": [
    "As we see, optimal primal and dual variables satisfy KKT conditions accurate to machine epsilon."
   ]
  },
  {
   "cell_type": "markdown",
   "metadata": {},
   "source": [
    "---"
   ]
  },
  {
   "cell_type": "markdown",
   "metadata": {},
   "source": [
    "** Problem 5. ** Consider the binary linear program:\n",
    "\n",
    "$$\n",
    "\\begin{equation*}\n",
    "\\begin{aligned}\n",
    "& \\underset{x}{\\text{minimize}}\n",
    "& & c^Tx \\\\\n",
    "& \\text{subject to}\n",
    "& & Ax \\leq b, \\\\\n",
    "&&& x_i \\in \\left\\{0,1\\right\\},\\;\\forall i.\n",
    "\\end{aligned}\n",
    "\\end{equation*}\n",
    "$$"
   ]
  },
  {
   "cell_type": "markdown",
   "metadata": {},
   "source": [
    "**(a) (1 point)**  – using partial dualization, dualize the first set of constraints $Ax \\leq b$. Write the partial dual, and suggest how it can be evaluated efficiently."
   ]
  },
  {
   "cell_type": "markdown",
   "metadata": {},
   "source": [
    "##### Solution"
   ]
  },
  {
   "cell_type": "markdown",
   "metadata": {},
   "source": [
    "Let us write down Lagrangian of this problem:\n",
    "\n",
    "$$\n",
    "\\mathbf{L} = c^Tx + \\lambda^T(Ax-b) = (c^T + \\lambda^TA)x - \\lambda^Tb\n",
    "$$\n",
    "\n",
    "To minimize Lagrangian with respect to $x$ we should set $x_i=0$ if corresponding coefficient $(c^T + \\lambda^TA)_i $ is greater then zero and set $x_i=1$ otherwise. Then the dual problem will look like:\n",
    "\n",
    "$$\n",
    "\\begin{equation*}\n",
    "\\begin{aligned}\n",
    "& \\underset{\\lambda}{\\text{maximize}}\n",
    "& & \\sum_{i=1}^n ((c^T + \\lambda^TA)_i)_- - \\lambda^Tb\\\\\n",
    "& \\text{subject to}\n",
    "& & \\lambda \\geq 0. \\\\\n",
    "\\end{aligned}\n",
    "\\end{equation*}\n",
    "$$\n",
    "\n",
    "where $f_- = \\min \\{f,0\\}$."
   ]
  },
  {
   "cell_type": "markdown",
   "metadata": {},
   "source": [
    "**(b) (2 points)** – consider the following instance of the problem\n",
    "\n",
    "$$\n",
    "\\begin{equation*}\n",
    "\\begin{aligned}\n",
    "& \\underset{x}{\\text{minimize}}\n",
    "& & -x_1-2x_2-4x_3-3x_4 \\\\\n",
    "& \\text{subject to}\n",
    "& & 10x_1 + 10x_3 + 10x_4 \\leq 15, \\\\\n",
    "&&& 10x_1 + 10x_2 + 10x_4 \\leq 13, \\\\\n",
    "&&& x_i \\in \\left\\{0,1\\right\\},\\;\\forall i.\n",
    "\\end{aligned}\n",
    "\\end{equation*}\n",
    "$$\n",
    "\n",
    "Evaluate the partial dual from part **(a)** on the grid **mgrid(0:0.05:10,0:0.05:10)**; Plot the resulting function using 3d plot (mpl_toolkits.mplot3d, the MATLAB function surf). Rotate the plot and add 2-3 most telling views to the report. Include one of the views that demonstrate whether strong duality holds for your partial dual (explain whether it holds or not). For rotating plot in ipython notebook, turn off matplotlib inline, so that the plot will be in a separate window."
   ]
  },
  {
   "cell_type": "markdown",
   "metadata": {},
   "source": [
    "##### Solution"
   ]
  },
  {
   "cell_type": "code",
   "execution_count": 9,
   "metadata": {
    "collapsed": false
   },
   "outputs": [],
   "source": [
    "c = np.array([-1, -2, -4, -3])\n",
    "A = np.array([[10, 0, 10, 10], [10, 10, 0, 10]])\n",
    "b = np.array([[15], [13]])\n",
    "f = []\n",
    "\n",
    "for l1 in np.arange(0, 10, 0.05):\n",
    "    for l2 in np.arange(0, 10, 0.05):\n",
    "        f.append(np.minimum(c+np.array([l1, l2]).dot(A),0).sum() - l1*b[0] - l2*b[1])\n",
    "        \n",
    "lam = np.meshgrid(np.arange(0, 10, 0.05), np.arange(0, 10, 0.05))\n",
    "func = np.array(f).reshape((200, 200))"
   ]
  },
  {
   "cell_type": "code",
   "execution_count": 10,
   "metadata": {
    "collapsed": true
   },
   "outputs": [],
   "source": [
    "def gurobi_solve():\n",
    "\n",
    "    m = grb.Model(\"BLP\")\n",
    "    m.setParam('OutputFlag', False)\n",
    "\n",
    "    x = []\n",
    "    for i in xrange(4):\n",
    "            x.append(m.addVar(vtype=grb.GRB.BINARY))\n",
    "\n",
    "    # the objective is to minimize c^Tx\n",
    "    m.modelSense = grb.GRB.MINIMIZE\n",
    "\n",
    "    # update model to integrate new variables\n",
    "    m.update()\n",
    "\n",
    "    # set optimization objective\n",
    "    obj_summands = []\n",
    "    for i in xrange(4):\n",
    "            obj_summands.append(c[i]*x[i])\n",
    "    m.setObjective(grb.quicksum(obj_summands)) \n",
    "\n",
    "    # set constraints\n",
    "    for i in xrange(2):\n",
    "        constr_summands = [A[i][j]*x[j] for j in xrange(4)]\n",
    "        m.addConstr(sum(constr_summands), grb.GRB.LESS_EQUAL, b[i])\n",
    "\n",
    "    # find optimal solution\n",
    "    m.optimize()\n",
    "\n",
    "    return m.ObjVal"
   ]
  },
  {
   "cell_type": "code",
   "execution_count": 11,
   "metadata": {
    "collapsed": false
   },
   "outputs": [],
   "source": [
    "%matplotlib qt\n",
    "fig = plt.figure()\n",
    "ax = fig.add_subplot(111, projection='3d')\n",
    "ax.plot_surface(lam[0], lam[1], func)\n",
    "ax.set_xlabel('l1')\n",
    "ax.set_ylabel('l2')\n",
    "ax.set_zlabel('obj')\n",
    "fig.show()"
   ]
  },
  {
   "cell_type": "markdown",
   "metadata": {},
   "source": [
    "<img src=\"figure_1.png\">\n",
    "<img src=\"figure_2.png\">\n",
    "<img src=\"figure_3.png\">"
   ]
  },
  {
   "cell_type": "code",
   "execution_count": 12,
   "metadata": {
    "collapsed": false
   },
   "outputs": [
    {
     "name": "stdout",
     "output_type": "stream",
     "text": [
      "Optimal objective from plot: -7.1\n",
      "Real otimal objective: -6.0\n"
     ]
    }
   ],
   "source": [
    "print \"Optimal objective from plot:\", func.max()\n",
    "print \"Real otimal objective:\", gurobi_solve()"
   ]
  },
  {
   "cell_type": "markdown",
   "metadata": {},
   "source": [
    "As optimal objective from plot is less than the real one, strong duality doesn't hold for our partial dual."
   ]
  }
 ],
 "metadata": {
  "kernelspec": {
   "display_name": "Python 2",
   "language": "python",
   "name": "python2"
  },
  "language_info": {
   "codemirror_mode": {
    "name": "ipython",
    "version": 2
   },
   "file_extension": ".py",
   "mimetype": "text/x-python",
   "name": "python",
   "nbconvert_exporter": "python",
   "pygments_lexer": "ipython2",
   "version": "2.7.10"
  }
 },
 "nbformat": 4,
 "nbformat_minor": 0
}
