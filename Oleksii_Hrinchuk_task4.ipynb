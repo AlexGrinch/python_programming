{
 "cells": [
  {
   "cell_type": "markdown",
   "metadata": {},
   "source": [
    "## Imports"
   ]
  },
  {
   "cell_type": "code",
   "execution_count": 1,
   "metadata": {
    "collapsed": true
   },
   "outputs": [],
   "source": [
    "%matplotlib inline\n",
    "import matplotlib.pyplot as plt\n",
    "import numpy as np\n",
    "import scipy.io as sio\n",
    "from scipy.optimize import minimize\n",
    "from scipy.special import huber"
   ]
  },
  {
   "cell_type": "markdown",
   "metadata": {},
   "source": [
    "# Homework 4: robotic navigation\n",
    "\n",
    "**Preamble**: You have built a robot for navigating in an indoor environment. The environments you consider have flat floors, so that the whole task is always two-dimensional. The robot has a sensing capability, as it can sense a location with respect to special beacons. You have given a robot to a friend, who uses it to map different interiors. To do the mapping, your friend places beacons at the perimeter of the interior, and then moves the robot through some trajectory.\n",
    "Every so often the robot stops, uses its compass to align itself with the direction to the north and then tries to sense the location of the beacons (relative to the robot's current position). Typically, it manages to locate several closest beacons. Your friend has conducted three experiments in three different interiors. You need to recover the location of beacons and the locations of the robot (where the measurements have been taken). \n",
    "From each experiment you get four arrays of measurements: **'beacons', 'robots', 'x', 'y'**. It is interpreted as follows: while the robot is in the position number **'robots[i]'**, it senses the beacon number **'beacons(i)'**, and the beacon is displaced by **'x[i]'** and **'y[i]'** from the robot's position. For each robot position, the robot senses several beacons. This data should be sufficient to recover the positions of the robot and of the beacons (up to a global translation, that does not matter for the purposes of your friend). \n",
    "\n",
    "**Experiment one (task1.mat) - 1 point:** This is the simplest environment (a room with a simple shape), the robot sensor works well (although a certain amount of Gaussian noise is present). The reconstruction can be reduced to solving a simple least-squares problem. Hint: use linear least-squares. Avoid using the explicit inversion of matrix. Instead, use *numpy.linalg.lstsq* to solve equations. Note that *numpy.linalg.lstsq* might add a (small) regularization to the system. Try using inversion (*'numpy.linalg.inv'*) to see how the reconstruction performs without regularization.\n"
   ]
  },
  {
   "cell_type": "markdown",
   "metadata": {},
   "source": [
    "### Solution"
   ]
  },
  {
   "cell_type": "markdown",
   "metadata": {},
   "source": [
    "Let us fix some reference system on our plane with y-axis oriented to the north. If the robot, while moving in the room, stops, he sends coordinate of some beacon in his own reference system. Let $(\\hat{X}_{\\text{b[i]}},\\hat{Y}_{\\text{b[i]}})$ and $(\\tilde{X}_{\\text{r[i]}},\\tilde{Y}_{\\text{r[i]}})$ be coordinates in our fixed reference system of the beacon number **beacons[i]** and the robot position number **robots[i]**. Then according to robot's moving reference system, we can write down following equations:\n",
    "\n",
    "$$\n",
    "\\begin{cases}\n",
    "\\hat{X}_{\\text{b[i]}} = \\tilde{X}_{\\text{r[i]}} + x_{\\text{[i]}}, \\\\\n",
    "\\hat{Y}_{\\text{b[i]}} = \\tilde{Y}_{\\text{r[i]}} + y_{\\text{[i]}}.\n",
    "\\end{cases}\n",
    "\\Leftrightarrow\n",
    "\\begin{cases}\n",
    "\\hat{X}_{\\text{b[i]}} - \\tilde{X}_{\\text{r[i]}} = x_{\\text{[i]}}, \\\\\n",
    "\\hat{Y}_{\\text{b[i]}} - \\tilde{Y}_{\\text{r[i]}} = y_{\\text{[i]}}.\n",
    "\\end{cases}\n",
    "~i = 1, \\dots, N\n",
    "$$\n",
    "\n",
    "We have got a system of equations but $X$ and $Y$ are independent in it (there are no equations with both components of $X$ and $Y$ in them). So, we can solve separately system with only $X$ and analogically system with only $Y$.\n",
    "\n",
    "Let us write down our system in matrix form: \n",
    "\n",
    "$$\n",
    "AX=x,~A \\in \\mathbb{R}^{N\\times(B+R)},~X \\in \\mathbb{R}^{(B+R)\\times 1},~x \\in \\mathbb{R}^{N\\times 1}\n",
    "$$\n",
    "\n",
    "where matrix $A$ is the following matrix:\n",
    "\n",
    "$$\n",
    "\\begin{cases}\n",
    "A_{ij}=1, \\text{if beacons[i]=j}, \\\\\n",
    "A_{i(j+B)}=-1, \\text{if robots[i]=j}, \\\\\n",
    "A_{ij}=0, \\text{otherwise}.\n",
    "\\end{cases}\n",
    "$$"
   ]
  },
  {
   "cell_type": "code",
   "execution_count": 2,
   "metadata": {
    "collapsed": true
   },
   "outputs": [],
   "source": [
    "class RoboticNavigation(object):\n",
    "    \n",
    "    def __init__(self, mat_contents):\n",
    "        \"\"\"Class for robotic navigation problem.\"\"\"\n",
    "        \n",
    "        self.beacons = np.reshape(mat_contents['beacons'], -1)-1\n",
    "        self.robots = np.reshape(mat_contents['robots'], -1)-1\n",
    "        self.x = np.reshape(mat_contents['x'], -1)\n",
    "        self.y = np.reshape(mat_contents['y'], -1)\n",
    "        self.B = self.beacons.max()+1\n",
    "        self.R = self.robots.max()+1\n",
    "        self.N = self.beacons.size\n",
    "        \n",
    "        self.A = np.zeros((2*self.N, 2*self.B+3*self.R))\n",
    "        for i in xrange(self.N):\n",
    "            self.A[i][self.beacons[i]] = 1\n",
    "            self.A[i][self.B+self.robots[i]] = -1\n",
    "            self.A[self.N+i][self.B+self.R+self.beacons[i]] = 1\n",
    "            self.A[self.N+i][2*self.B+self.R+self.robots[i]] = -1\n",
    "     \n",
    "    def simple_reconstruct(self):\n",
    "        \"\"\"Reconstruct beacons and robot positions in the simplest case.\"\"\"\n",
    "        \n",
    "        beacons, robots, x, y, B, R, N = self.beacons, self.robots, self.x, self.y, self.B, self.R, self.N\n",
    "\n",
    "        A = self.A[:N,:(R+B)]\n",
    "\n",
    "        X = np.linalg.lstsq(A,x)[0]\n",
    "        X = X - X.min()\n",
    "        Y = np.linalg.lstsq(A,y)[0]\n",
    "        Y = Y - Y.min()\n",
    "        \n",
    "        sol = X[:B], X[B:B+R], Y[:B], Y[B:B+R], np.zeros(R)\n",
    "        return sol\n",
    "    \n",
    "    def inv_reconstruct(self):\n",
    "        \"\"\"Reconstruct beacons and robot positions using pseudo-inverse of a matrix.\"\"\"\n",
    "        \n",
    "        beacons, robots, x, y, B, R, N = self.beacons, self.robots, self.x, self.y, self.B, self.R, self.N\n",
    "        A = self.A[:N,:(R+B)]    \n",
    "        \n",
    "        A_inv = np.linalg.pinv(A)\n",
    "        \n",
    "        X = A_inv.dot(x)\n",
    "        Y = A_inv.dot(y)\n",
    "        \n",
    "        sol = X[:B], X[B:B+R], Y[:B], Y[B:B+R], np.zeros(R)\n",
    "        return sol\n",
    "    \n",
    "    def visualize(self, sol, loc='best'):\n",
    "        \"\"\"Visualize restored beacons and robots positions.\"\"\"\n",
    "        \n",
    "        plt.scatter(sol[0], sol[2], c='black', label='beacons', s=100)\n",
    "        plt.scatter(sol[1], sol[3], c='red', label='robots',s=100)\n",
    "        plt.legend(loc=loc)\n",
    "        plt.show()"
   ]
  },
  {
   "cell_type": "markdown",
   "metadata": {},
   "source": [
    "##### numpy.linalg.lstsq"
   ]
  },
  {
   "cell_type": "code",
   "execution_count": 3,
   "metadata": {
    "collapsed": false
   },
   "outputs": [
    {
     "data": {
      "image/png": "[encoded data removed]",
      "text/plain": [
       "<matplotlib.figure.Figure at 0x6fb4518>"
      ]
     },
     "metadata": {},
     "output_type": "display_data"
    }
   ],
   "source": [
    "mat_contents = sio.loadmat('task1.mat')\n",
    "rn = RoboticNavigation(mat_contents)\n",
    "sol = rn.simple_reconstruct()\n",
    "rn.visualize(sol)"
   ]
  },
  {
   "cell_type": "markdown",
   "metadata": {},
   "source": [
    "##### numpy.linalg.pinv"
   ]
  },
  {
   "cell_type": "code",
   "execution_count": 4,
   "metadata": {
    "collapsed": false
   },
   "outputs": [
    {
     "data": {
      "image/png": "[encoded data removed]",
      "text/plain": [
       "<matplotlib.figure.Figure at 0x732f358>"
      ]
     },
     "metadata": {},
     "output_type": "display_data"
    }
   ],
   "source": [
    "mat_contents = sio.loadmat('task1.mat')\n",
    "rn = RoboticNavigation(mat_contents)\n",
    "sol = rn.inv_reconstruct()\n",
    "rn.visualize(sol)"
   ]
  },
  {
   "cell_type": "markdown",
   "metadata": {
    "collapsed": true
   },
   "source": [
    "** Experiment two (task2.mat) - 4 points: ** This is a more complex environment. On top of that, there are strong electrical currents under the floor, so that the compass on the robot makes significant errors, so that the robot is not perfectly oriented. Thus, in addition to robot positions you would also need to recover robot orientations. *Hint and instructions:* you can still try to solve the problem as if the robot is perfectly oriented. You can then use what you obtain as an initialization to the non-linear initialization (angles can be initialized at zero). For the non-linear optimization, you should use non-linear least-squares. You can then either code Levenberg-Marquardt method yourself or figure out how to use *'scipy.optimize'*. In the latter case, to get the points, your final version must provide the python's routine with a Jacobian computed (analytically) by your code.\n"
   ]
  },
  {
   "cell_type": "markdown",
   "metadata": {},
   "source": [
    "### Solution"
   ]
  },
  {
   "cell_type": "markdown",
   "metadata": {},
   "source": [
    "Let $\\theta_{\\text{r[i]}}$ be the angle between the East and x-axis of robot's own disoriented reference system. If robot tells us that coordinates of the beacon $\\text{b[i]}$ are $x_\\text{[i]}$ and $y_\\text{[i]}$ than real coordinates can be obtained through the inverse of rotation matrix. Our system from the previous task will be rewritten in the following way:\n",
    "\n",
    "$$\n",
    "\\begin{pmatrix} \\hat{X}_{\\text{b[i]}} \\\\ \\hat{Y}_{\\text{b[i]}} \\end{pmatrix} = \n",
    "\\begin{pmatrix} \\tilde{X}_{\\text{r[i]}} \\\\ \\tilde{Y}_{\\text{r[i]}} \\end{pmatrix} + \n",
    "\\begin{pmatrix} \\cos\\theta_{\\text{r[i]}} & -\\sin \\theta_{\\text{r[i]}}\\\\ \\sin \\theta_{\\text{r[i]}} & \\cos \\theta_{\\text{r[i]}}\\end{pmatrix} \\begin{pmatrix} x_{\\text{[i]}} \\\\ y_{\\text{[i]}} \\end{pmatrix}\n",
    "$$\n",
    "\n",
    "Now our task is to minimize non-linear vector-function $F(\\hat{X},\\tilde{X},\\hat{Y},\\tilde{Y},\\theta)$ of size $2N$:\n",
    "\n",
    "$$\n",
    "F_i = \\hat{X}_{\\text{b[i]}} - \\tilde{X}_{\\text{r[i]}} - x_{\\text{[i]}} \\cos\\theta_{\\text{r[i]}} + y_{\\text{[i]}} \\sin \\theta_{\\text{r[i]}},~i = 1,\\dots,N \\\\\n",
    "F_i = \\hat{Y}_{\\text{b[i]}} - \\tilde{Y}_{\\text{r[i]}} - x_{\\text{[i]}} \\sin \\theta_{\\text{r[i]}} - y_{\\text{[i]}} \\cos\\theta_{\\text{r[i]}},~i = N+1,\\dots,2N\n",
    "$$\n",
    "\n",
    "which can be done by Levenberg-Marquardt iteration algorithm:\n",
    "\n",
    "$$\n",
    "[J^T(x_k)J(x) + \\lambda_k I]p_k = -J^T(x_k)F(x_k), \\\\\n",
    "x_{k+1} = x_k + p_k.\n",
    "$$\n",
    "\n",
    "The only remaining thing to do is to calculate Jacobian $J(x_k)$ of our function $F$ in point $x_k = (\\hat{X},\\tilde{X},\\hat{Y},\\tilde{Y},\\theta)$. It can be easily done if we look at our function $F$. We do not present here these calculations, however they are implemented in structure of the matrix **A** and in function **jacobian**."
   ]
  },
  {
   "cell_type": "code",
   "execution_count": 5,
   "metadata": {
    "collapsed": true
   },
   "outputs": [],
   "source": [
    "class RoboticNavigation2(RoboticNavigation):\n",
    "    \n",
    "    def __init__(self, mat_contents):    \n",
    "        super(RoboticNavigation2, self).__init__(mat_contents)\n",
    "        \n",
    "    def jacobian(self, X):   \n",
    "        \"\"\"Calculate jacobian of vector-function F.\"\"\"\n",
    "        \n",
    "        beacons, robots, x, y, B, R, N = self.beacons, self.robots, self.x, self.y, self.B, self.R, self.N\n",
    "        \n",
    "        J = np.copy(self.A)\n",
    "        for i in xrange(N):\n",
    "            theta = X[2*B+2*R+robots[i]]\n",
    "            J[i][2*B+2*R+robots[i]] = x[i]*np.sin(theta) + y[i]*np.cos(theta)\n",
    "            J[N+i][2*B+2*R+robots[i]] = -x[i]*np.cos(theta) + y[i]*np.sin(theta)        \n",
    "        return J\n",
    "\n",
    "    def vector_function(self, X):\n",
    "        \"\"\"Calculate vector-function F.\"\"\"\n",
    "        \n",
    "        beacons, robots, x, y, B, R, N = self.beacons, self.robots, self.x, self.y, self.B, self.R, self.N\n",
    "        \n",
    "        F = np.zeros(2*N)\n",
    "        for i in xrange(N):\n",
    "            theta = X[2*B+2*R+robots[i]]\n",
    "            F[i] = X[beacons[i]] - X[B+robots[i]] - x[i]*np.cos(theta) + y[i]*np.sin(theta)\n",
    "            F[N+i] = X[B+R+beacons[i]] - X[2*B+R+robots[i]] - x[i]*np.sin(theta) - y[i]*np.cos(theta)\n",
    "        return F\n",
    "    \n",
    "    def levenberg_marquardt(self, MAX_ITER = 20):\n",
    "        \"\"\"Levenberg-Marquardt method for beacons and robot positions reconstruction when robot is not perfectly oriented.\"\"\"\n",
    "        \n",
    "        beacons, robots, x, y, B, R, N = self.beacons, self.robots, self.x, self.y, self.B, self.R, self.N\n",
    "        \n",
    "        sol = self.simple_reconstruct()\n",
    "        init = np.concatenate(sol)\n",
    "        X = init\n",
    "\n",
    "        for i in xrange(MAX_ITER):\n",
    "            J = self.jacobian(X) \n",
    "            F = self.vector_function(X)\n",
    "            left = (J.T).dot(J)\n",
    "            left = left + 0.005*np.identity(left.shape[0])\n",
    "            right = -(J.T).dot(F)\n",
    "            p = np.linalg.lstsq(left,right)[0]\n",
    "            X = X + p\n",
    "\n",
    "        X_beacons = X[:B]\n",
    "        Y_beacons = X[B+R:2*B+R]\n",
    "        X_robots = X[B:B+R]\n",
    "        Y_robots = X[2*B+R:2*B+2*R]\n",
    "        Thetas = X[2*B+2*R:]\n",
    "\n",
    "        return X_beacons, X_robots, Y_beacons, Y_robots, Thetas"
   ]
  },
  {
   "cell_type": "code",
   "execution_count": 6,
   "metadata": {
    "collapsed": false
   },
   "outputs": [
    {
     "data": {
      "image/png": "[encoded data removed]",
      "text/plain": [
       "<matplotlib.figure.Figure at 0x71d40b8>"
      ]
     },
     "metadata": {},
     "output_type": "display_data"
    }
   ],
   "source": [
    "mat_contents = sio.loadmat('task2.mat')\n",
    "rn = RoboticNavigation2(mat_contents)\n",
    "sol = rn.levenberg_marquardt()\n",
    "rn.visualize(sol, loc='center left')"
   ]
  },
  {
   "cell_type": "markdown",
   "metadata": {
    "collapsed": true
   },
   "source": [
    "** Experiment three (task3.mat) - 6 points: **  This is another complex environment. On top of the complications from the previous experiment, your robot beacon identification system is now working imperfectly, so that every so often (say, in 3% cases), the robot would confuse the number of the beacon that it observes. You have to make your reconstruction algorithm robust to such mistakes.  Instruction: use non-linear optimization *scipy.optimize* in python (you get 2 points for any implementation that produces an accurate reconstruction). You are recommended to supply it with an analytically-computed gradient (+2 points). Use the option 'method=BFGS' to make python to use a quasi-Newton BFGS method, play with the number of iterations that are allowed ('options.maxiter') to see the effect; you can also try to provide the algorithm with the Hessian derived analytically. You get +2 points if your approach devised this way will work faster or comparable with quasi-Newton. \n",
    "\n",
    "**Output.** For each experiment, your pdf file should include:\n",
    "*\tA printout of the reconstruction: use e.g. scatter plots with different colors used for beacons and robots positions.\n",
    "*\tAn explanation of what you have tried and what you have observed.\n",
    "Of course, your code should be attached.\n"
   ]
  },
  {
   "cell_type": "markdown",
   "metadata": {},
   "source": [
    "### Solution"
   ]
  },
  {
   "cell_type": "markdown",
   "metadata": {},
   "source": [
    "In this case we use the following loss function: $L(F) = \\sum_{i=1}^{2N} H(F_i)$, where $H$ is Huber loss. This function is not sensitive to rare ejections and provides robust solution of our problem.\n",
    "\n",
    "We computed analytically gradient of this function (look at **gradient**) and gave it to BFGS-method of **scipy.optimize** to obtain solution."
   ]
  },
  {
   "cell_type": "code",
   "execution_count": 7,
   "metadata": {
    "collapsed": false
   },
   "outputs": [],
   "source": [
    "class RoboticNavigation3(RoboticNavigation2):\n",
    "    \n",
    "    def __init__(self, mat_contents):\n",
    "        super(RoboticNavigation3, self).__init__(mat_contents)\n",
    "        \n",
    "    def loss_function(self, X):\n",
    "        \"\"\"Calculate total loss function as sum of Huber loss functions.\"\"\"\n",
    "        \n",
    "        F = self.vector_function(X)  \n",
    "        return huber(0.5, F).sum()\n",
    "\n",
    "    def gradient(self, X):\n",
    "        \"\"\"Calculate gradient of loss function -- sum of hubers.\"\"\"\n",
    "        \n",
    "        beacons, robots, x, y, B, R, N = self.beacons, self.robots, self.x, self.y, self.B, self.R, self.N\n",
    "        \n",
    "        F = self.vector_function(X)\n",
    "        grad = np.zeros(2*B+3*R)\n",
    "        \n",
    "        d = np.clip(F, -0.5, 0.5)\n",
    "        \n",
    "        for i in xrange(N):\n",
    "            theta = X[2*B+2*R+robots[i]]\n",
    "\n",
    "            grad[beacons[i]] += d[i]\n",
    "            grad[B+robots[i]] -= d[i]\n",
    "            grad[2*B+2*R+robots[i]] += d[i]*(x[i]*np.sin(theta) + y[i]*np.cos(theta))\n",
    "\n",
    "            grad[B+R+beacons[i]] += d[N+i]\n",
    "            grad[2*B+R+robots[i]] -= d[N+i]\n",
    "            grad[2*B+2*R+robots[i]] += d[N+i]*(-x[i]*np.cos(theta) + y[i]*np.sin(theta))\n",
    "\n",
    "        return grad     \n",
    "    \n",
    "    def hessian(self, X):\n",
    "        \"\"\"Calculate hessian of loss function.\"\"\"\n",
    "        \n",
    "        beacons, robots, x, y, B, R, N = self.beacons, self.robots, self.x, self.y, self.B, self.R, self.N\n",
    "        \n",
    "        H = np.zeros((2*B+3*R, 2*B+3*R)) \n",
    "        F = self.vector_function(X)\n",
    "        \n",
    "        for i in xrange(N):\n",
    "            \n",
    "            theta = X[2*B+2*R+robots[i]]\n",
    "            \n",
    "            d = np.clip(F[i], -0.5, 0.5) \n",
    "            if (np.abs(d) == 0.5):\n",
    "                H[2*B+2*R+robots[i]][2*B+2*R+robots[i]] += (d/2)*(x[i]*np.cos(theta) - y[i]*np.sin(theta))\n",
    "            else:\n",
    "                H[beacons[i]][beacons[i]] += 0.5\n",
    "                H[beacons[i]][B+robots[i]] += -1\n",
    "                H[beacons[i]][2*B+2*R+robots[i]] += x[i]*np.sin(theta) + y[i]*np.cos(theta)\n",
    "                H[B+robots[i]][B+robots[i]] += 0.5\n",
    "                H[B+robots[i]][2*B+2*R+robots[i]] += -x[i]*np.sin(theta) - y[i]*np.cos(theta)\n",
    "                H[2*B+2*R+robots[i]][2*B+2*R+robots[i]] += ((y[i]**2-x[i]**2)*np.cos(2*theta) + 2*x[i]*y[i]*np.sin(2*theta))/2\n",
    "                \n",
    "            d = np.clip(F[N+i], -0.5, 0.5)\n",
    "            if (np.abs(d) == 0.5):\n",
    "                H[2*B+2*R+robots[i]][2*B+2*R+robots[i]] = (d/2)*(x[i]*np.sin(theta) + y[i]*np.cos(theta))\n",
    "            else:\n",
    "                H[B+R+beacons[i]][B+R+beacons[i]] += 0.5\n",
    "                H[B+R+beacons[i]][2*B+R+robots[i]] += -1\n",
    "                H[B+R+beacons[i]][2*B+2*R+robots[i]] += -x[i]*np.cos(theta) + y[i]*np.sin(theta)\n",
    "                H[2*B+R+robots[i]][2*B+R+robots[i]] += 0.5\n",
    "                H[2*B+R+robots[i]][2*B+2*R+robots[i]] += x[i]*np.cos(theta) - y[i]*np.sin(theta)\n",
    "                H[2*B+2*R+robots[i]][2*B+2*R+robots[i]] += ((x[i]**2-y[i]**2)*np.cos(2*theta) - 2*x[i]*y[i]*np.sin(2*theta))/2\n",
    "\n",
    "        return H+H.T\n",
    "        \n",
    "    def robust_reconstruct(self):\n",
    "        \"\"\"Reconstruct beacons and robot positions when robot beacon identification system is now working imperfectly.\"\"\"\n",
    "        \n",
    "        beacons, robots, x, y, B, R, N = self.beacons, self.robots, self.x, self.y, self.B, self.R, self.N\n",
    "        \n",
    "        sol = self.simple_reconstruct()\n",
    "        init = np.concatenate(sol)\n",
    "\n",
    "        X = minimize(self.loss_function, init, method='BFGS', jac=self.gradient).x   \n",
    "        \n",
    "        X_beacons = X[:B]\n",
    "        Y_beacons = X[B+R:2*B+R]\n",
    "        X_robots = X[B:B+R]\n",
    "        Y_robots = X[2*B+R:2*B+2*R]\n",
    "        Thetas = X[2*B+2*R:]\n",
    "\n",
    "        return X_beacons, X_robots, Y_beacons, Y_robots, Thetas\n",
    "\n",
    "    def hessian_solve(self):\n",
    "        \"\"\"Solve problem with hessian.\"\"\"\n",
    "        \n",
    "        beacons, robots, x, y, B, R, N = self.beacons, self.robots, self.x, self.y, self.B, self.R, self.N\n",
    "        \n",
    "        sol = self.simple_reconstruct()\n",
    "        init = np.concatenate(sol)\n",
    "        \n",
    "        X = minimize(self.loss_function, init, method='trust-ncg', jac=self.gradient, hess=self.hessian).x \n",
    "        \n",
    "        X_beacons = X[:B]\n",
    "        Y_beacons = X[B+R:2*B+R]\n",
    "        X_robots = X[B:B+R]\n",
    "        Y_robots = X[2*B+R:2*B+2*R]\n",
    "        Thetas = X[2*B+2*R:]\n",
    "\n",
    "        return X_beacons, X_robots, Y_beacons, Y_robots, Thetas"
   ]
  },
  {
   "cell_type": "code",
   "execution_count": 8,
   "metadata": {
    "collapsed": false
   },
   "outputs": [
    {
     "data": {
      "image/png": "[encoded data removed]",
      "text/plain": [
       "<matplotlib.figure.Figure at 0x181aa208>"
      ]
     },
     "metadata": {},
     "output_type": "display_data"
    }
   ],
   "source": [
    "mat_contents = sio.loadmat('task3.mat')\n",
    "rn = RoboticNavigation3(mat_contents)\n",
    "sol = rn.robust_reconstruct()\n",
    "rn.visualize(sol)"
   ]
  }
 ],
 "metadata": {
  "kernelspec": {
   "display_name": "Python 2",
   "language": "python",
   "name": "python2"
  },
  "language_info": {
   "codemirror_mode": {
    "name": "ipython",
    "version": 2
   },
   "file_extension": ".py",
   "mimetype": "text/x-python",
   "name": "python",
   "nbconvert_exporter": "python",
   "pygments_lexer": "ipython2",
   "version": "2.7.10"
  }
 },
 "nbformat": 4,
 "nbformat_minor": 0
}
