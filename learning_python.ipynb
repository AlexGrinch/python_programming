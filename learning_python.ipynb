{
 "metadata": {
  "name": "",
  "signature": "sha256:90998980a1e85bf9a4c401c354411b0ff4ac9d2fccddddbf22e56f04979cfa8f"
 },
 "nbformat": 3,
 "nbformat_minor": 0,
 "worksheets": [
  {
   "cells": [
    {
     "cell_type": "heading",
     "level": 1,
     "metadata": {},
     "source": [
      "Comparing topic models in VowpalWabbit.LDA and BigARTM"
     ]
    },
    {
     "cell_type": "markdown",
     "metadata": {},
     "source": [
      "This guide is purposed to show how to estimate quality measures of topis models in VW.LDA and BigARTM libraries. It also contains a simple experiment which shows how this models differ from each other."
     ]
    },
    {
     "cell_type": "heading",
     "level": 2,
     "metadata": {},
     "source": [
      "Preparation for the experiments"
     ]
    },
    {
     "cell_type": "markdown",
     "metadata": {},
     "source": [
      "- Download and install Vowpal Wabbit from https://github.com/JohnLangford/vowpal_wabbit/wiki\n",
      "- Download and install BigARTM from http://docs.bigartm.org/en/latest/\n",
      "- Download dataset from https://archive.ics.uci.edu/ml/datasets/Bag+of+Words"
     ]
    },
    {
     "cell_type": "heading",
     "level": 2,
     "metadata": {},
     "source": [
      "Vowpal Wabbit"
     ]
    },
    {
     "cell_type": "markdown",
     "metadata": {},
     "source": [
      "To run the script for VowpalWabbit.LDA, copy code from \"Estimating quality of the Online-LDA in Vowpal Wabbit\":"
     ]
    },
    {
     "cell_type": "code",
     "collapsed": false,
     "input": [
      "from IPython.display import HTML\n",
      "HTML('<iframe src=http://nbviewer.ipython.org/github/romovpa/factorization-models/blob/master/topic/VowpalWabbitTopicQuality.ipynb#Estimating-quality-of-the-Online-LDA-in-Vowpal-Wabbit width=1100 height=500></iframe>')"
     ],
     "language": "python",
     "metadata": {},
     "outputs": [
      {
       "html": [
        "<iframe src=http://nbviewer.ipython.org/github/romovpa/factorization-models/blob/master/topic/VowpalWabbitTopicQuality.ipynb#Estimating-quality-of-the-Online-LDA-in-Vowpal-Wabbit width=1100 height=500></iframe>"
       ],
       "metadata": {},
       "output_type": "pyout",
       "prompt_number": 43,
       "text": [
        "<IPython.core.display.HTML at 0x65307b8>"
       ]
      }
     ],
     "prompt_number": 43
    },
    {
     "cell_type": "heading",
     "level": 2,
     "metadata": {},
     "source": [
      "BigARTM"
     ]
    },
    {
     "cell_type": "markdown",
     "metadata": {},
     "source": [
      "Run this script to count perplexity of topic model in BigARTM. In this script: \n",
      "\n",
      "- ns is the array of points on axis x where perplexity is estimated\n",
      "- ps is the array of peprplexities of points from ns\n",
      "- data_folder is the path to python examples in your release of BigARTM \n",
      "- target_folder/collection_name is the name of collection in experiment\n"
     ]
    },
    {
     "cell_type": "code",
     "collapsed": false,
     "input": [
      "import artm.messages_pb2, artm.library, sys\n",
      "\n",
      "ns, ps = [], []\n",
      "\n",
      "# Parse collection\n",
      "data_folder = 'C:/local/bigartm/BigARTM_v0.5.5_x64/python/examples/'\n",
      "target_folder = 'nips'\n",
      "collection_name = 'nips'\n",
      "unique_tokens = artm.library.Library().ParseCollectionOrLoadDictionary(\n",
      "  data_folder + 'docword.'+ collection_name + '.txt',\n",
      "  data_folder + 'vocab.' + collection_name + '.txt',\n",
      "  target_folder)\n",
      "\n",
      "# Create local node controller\n",
      "create_local_node_controller = True\n",
      "if (create_local_node_controller):\n",
      "  node_controller = artm.library.NodeController('tcp://*:5555')\n",
      "\n",
      "# Create master component and infer topic model\n",
      "proxy_config = artm.messages_pb2.MasterProxyConfig()\n",
      "proxy_config.node_connect_endpoint = 'tcp://localhost:5555'\n",
      "proxy_config.config.disk_path = target_folder\n",
      "\n",
      "\n",
      "with artm.library.MasterComponent(proxy_config) as master:\n",
      "\n",
      "  dictionary           = master.CreateDictionary(unique_tokens)\n",
      "  \n",
      "  perplexity_score     = master.CreatePerplexityScore()\n",
      "  sparsity_theta_score = master.CreateSparsityThetaScore()\n",
      "  sparsity_phi_score   = master.CreateSparsityPhiScore()\n",
      "  topic_kernel_score   = master.CreateTopicKernelScore()\n",
      "  top_tokens_score     = master.CreateTopTokensScore()\n",
      "\n",
      "  # Configure basic regularizers\n",
      "  #smooth_sparse_theta_reg  = master.CreateSmoothSparseThetaRegularizer()\n",
      "  #smooth_sparse_phi_reg    = master.CreateSmoothSparsePhiRegularizer()\n",
      "  decorrelator_reg     = master.CreateDecorrelatorPhiRegularizer()\n",
      "\n",
      "  # Configure the model\n",
      "  model = master.CreateModel(topics_count = 10, inner_iterations_count = 10)\n",
      "  model.EnableScore(perplexity_score)\n",
      "  model.EnableScore(sparsity_phi_score)\n",
      "  model.EnableScore(sparsity_theta_score)\n",
      "  model.EnableScore(topic_kernel_score)\n",
      "  model.EnableScore(top_tokens_score)\n",
      "  #model.EnableRegularizer(smooth_sparse_theta_reg, -0.1)\n",
      "  #model.EnableRegularizer(smooth_sparse_phi_reg, -0.2)\n",
      "  model.EnableRegularizer(decorrelator_reg, 500000)\n",
      "\n",
      "  for iter in range (51):\n",
      "    master.InvokeIteration(1)\n",
      "    master.WaitIdle();\n",
      "    model.Synchronize();\n",
      "    \n",
      "    if ((iter % 5 == 0) or (iter == 2)) and (iter > 0): \n",
      "        ns.append(iter)\n",
      "        ps.append(perplexity_score.GetValue(model).value) \n",
      "\n",
      "  artm.library.Visualizers.PrintTopTokensScore(top_tokens_score.GetValue(model))\n",
      "\n",
      "#Dispose local node controller\n",
      "if (create_local_node_controller):\n",
      "  node_controller.Dispose()"
     ],
     "language": "python",
     "metadata": {},
     "outputs": [
      {
       "output_type": "stream",
       "stream": "stdout",
       "text": [
        "Found 2 batches, using them.\n",
        "\n",
        "Top tokens per topic:"
       ]
      },
      {
       "output_type": "stream",
       "stream": "stdout",
       "text": [
        "\n",
        "Topic#1:  network  input  weight  unit  learning  neural  output  training  error  layer  \n",
        "Topic#2:  representation  rules  memory  structure  level  node  rule  tree  set  string  \n",
        "Topic#3:  function  algorithm  bound  result  set  problem  point  case  vector  number  \n",
        "Topic#4:  image  object  model  visual  motion  field  direction  position  images  system  \n",
        "Topic#5:  learning  control  action  algorithm  function  problem  system  policy  reinforcement  task  \n",
        "Topic#6:  circuit  analog  chip  current  output  neural  system  neuron  bit  signal  \n",
        "Topic#7:  neuron  cell  model  input  synaptic  pattern  activity  firing  spike  cortex  \n",
        "Topic#8:  model  data  parameter  distribution  algorithm  gaussian  set  method  probability  likelihood  \n",
        "Topic#9:  noise  signal  matrix  system  component  dynamic  linear  equation  information  nonlinear  \n",
        "Topic#10:  recognition  training  classifier  speech  set  system  classification  word  performance  features  \n"
       ]
      }
     ],
     "prompt_number": 18
    },
    {
     "cell_type": "code",
     "collapsed": false,
     "input": [
      "plot(ns, ps, 'x-')\n",
      "grid(True)\n",
      "title('BigARTM Perplexity on nips dataset')\n",
      "xlabel('iteration')\n",
      "ylabel('perplexity')\n"
     ],
     "language": "python",
     "metadata": {},
     "outputs": [
      {
       "metadata": {},
       "output_type": "pyout",
       "prompt_number": 20,
       "text": [
        "<matplotlib.text.Text at 0x1067bac8>"
       ]
      },
      {
       "metadata": {},
       "output_type": "display_data",
       "png": "[encoded data removed]",
       "text": [
        "<matplotlib.figure.Figure at 0x103eb7f0>"
       ]
      }
     ],
     "prompt_number": 20
    },
    {
     "cell_type": "heading",
     "level": 2,
     "metadata": {},
     "source": [
      "Experiment on NIPS collection"
     ]
    },
    {
     "cell_type": "markdown",
     "metadata": {},
     "source": [
      "We did an experimnet on NIPS collection of documents and got following results:"
     ]
    },
    {
     "cell_type": "code",
     "collapsed": false,
     "input": [
      "vwns = [1, 5, 10, 15, 20, 25, 30, 35, 40, 45, 50]\n",
      "vwps = [2413.111, 2189.289, 2125.025, 2094.138, 2075.545, 2062.900, 2053.732, 2046.962, 2041.958, 2038.143, 2035.219]"
     ],
     "language": "python",
     "metadata": {},
     "outputs": [],
     "prompt_number": 48
    },
    {
     "cell_type": "code",
     "collapsed": false,
     "input": [
      "plot(ns, ps, vwns, vwps,'x-')\n",
      "grid(True)\n",
      "title('BigARTM Perplexity on nips dataset')\n",
      "xlabel('iteration')\n",
      "ylabel('perplexity')"
     ],
     "language": "python",
     "metadata": {},
     "outputs": [
      {
       "metadata": {},
       "output_type": "pyout",
       "prompt_number": 50,
       "text": [
        "<matplotlib.text.Text at 0x6507208>"
       ]
      },
      {
       "metadata": {},
       "output_type": "display_data",
       "png": "[encoded data removed]",
       "text": [
        "<matplotlib.figure.Figure at 0x6530908>"
       ]
      }
     ],
     "prompt_number": 50
    },
    {
     "cell_type": "markdown",
     "metadata": {},
     "source": [
      "This graph shows that BigARTM topic model (blue line) with only one regularizer decorellator shows better perplexity than VowpalWabbit.LDA topic model. If we find the right path of regularization, we will get better results than now. So, the idea of additive regularization is worth it to be researched further."
     ]
    }
   ],
   "metadata": {}
  }
 ]
}