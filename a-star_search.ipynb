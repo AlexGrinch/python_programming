{
 "metadata": {
  "name": "",
  "signature": "sha256:b181ce7eafa34f52f7b93f6d8be90b2a275231aecdb7d9abe4f28c2a57d38139"
 },
 "nbformat": 3,
 "nbformat_minor": 0,
 "worksheets": [
  {
   "cells": [
    {
     "cell_type": "heading",
     "level": 1,
     "metadata": {},
     "source": [
      "A* search algorithm "
     ]
    },
    {
     "cell_type": "markdown",
     "metadata": {},
     "source": [
      "There are 3 classes which determine different topologies, but all of them are based on square matrix. Parameters:\n",
      "- $size$_$N$ - size of matrix in which hexagonal grid storages\n",
      "- $matrix$ - matrix which determines hexagonal grid filled with $0$ and $1$, where $0$ is free node and $1$ is engaged node"
     ]
    },
    {
     "cell_type": "heading",
     "level": 2,
     "metadata": {},
     "source": [
      "Square grid"
     ]
    },
    {
     "cell_type": "markdown",
     "metadata": {},
     "source": [
      "Class for working with square grid."
     ]
    },
    {
     "cell_type": "code",
     "collapsed": false,
     "input": [
      "from math import sqrt\n",
      "\n",
      "class Square_grid:\n",
      "    def __init__(self, size_N, matrix):\n",
      "        self.size = size_N\n",
      "        self.mat = matrix\n",
      "        \n",
      "    def check(self, (x, y)):\n",
      "        if (x < 0) or (x >= self.size) or (y < 0) or (y >= self.size) or (self.mat[x][y] == 1):\n",
      "            return False\n",
      "        else:\n",
      "            return True\n",
      "        \n",
      "    def neighbours(self, (x, y)):\n",
      "        nb = []\n",
      "        for i in range(-1, 2):\n",
      "            for j in range (-1, 2):\n",
      "                temp = (x + i, y + j)\n",
      "                if (self.check(temp)) and (i*i + j*j != 0):\n",
      "                    nb.append(temp)\n",
      "        return nb\n",
      "    \n",
      "    def cost(self, (x1, y1) ,(x2, y2)):\n",
      "        dist = sqrt((x1 - x2)*(x1 - x2) + (y1 - y2)*(y1 - y2))\n",
      "        dist = 1\n",
      "        return (dist)"
     ],
     "language": "python",
     "metadata": {},
     "outputs": [],
     "prompt_number": 39
    },
    {
     "cell_type": "heading",
     "level": 2,
     "metadata": {},
     "source": [
      "Hexagonal grid"
     ]
    },
    {
     "cell_type": "code",
     "collapsed": false,
     "input": [
      "from IPython.display import HTML\n",
      "HTML('<iframe src=http://www.redblobgames.com/grids/hexagons/#map-storage width=1100 height=400></iframe>')"
     ],
     "language": "python",
     "metadata": {},
     "outputs": [
      {
       "html": [
        "<iframe src=http://www.redblobgames.com/grids/hexagons/#map-storage width=1100 height=400></iframe>"
       ],
       "metadata": {},
       "output_type": "pyout",
       "prompt_number": 40,
       "text": [
        "<IPython.core.display.HTML at 0x40cde48>"
       ]
      }
     ],
     "prompt_number": 40
    },
    {
     "cell_type": "markdown",
     "metadata": {},
     "source": [
      "Class for working with hexagonal grid. "
     ]
    },
    {
     "cell_type": "code",
     "collapsed": false,
     "input": [
      "from math import sqrt\n",
      "\n",
      "class Hexagonal_grid:\n",
      "    def __init__(self, size_N, matrix):\n",
      "        self.size = size_N\n",
      "        self.mat = matrix\n",
      "        \n",
      "    def check(self, (x, y)):\n",
      "        if (x < 0) or (x >= self.size) or (y < 0) or (y >= self.size) or (self.mat[x][y] == 1):\n",
      "            return False\n",
      "        else:\n",
      "            return True\n",
      "        \n",
      "    def neighbours(self, (x, y)):\n",
      "        nb = []\n",
      "        nb_to_check = [(1, 0), (1, -1), (0, -1), (-1, 0), (-1, 1), (0, 1)]\n",
      "        for i in nb_to_check:\n",
      "            temp = (x + i[0], y + i[1])\n",
      "            if self.check(temp):\n",
      "                nb.append(temp)\n",
      "        return nb\n",
      "    \n",
      "    def cost(self, (x1, y1) ,(x2, y2)):\n",
      "        dist = sqrt((x1 - x2)*(x1 - x2) + (y1 - y2)*(y1 - y2))\n",
      "        dist = 1\n",
      "        return (dist)"
     ],
     "language": "python",
     "metadata": {},
     "outputs": [],
     "prompt_number": 41
    },
    {
     "cell_type": "heading",
     "level": 2,
     "metadata": {},
     "source": [
      "Square grid on sphere"
     ]
    },
    {
     "cell_type": "markdown",
     "metadata": {},
     "source": [
      "Class for working with square grid on sphere."
     ]
    },
    {
     "cell_type": "code",
     "collapsed": false,
     "input": [
      "from math import sqrt\n",
      "import itertools\n",
      "\n",
      "class Sphere_grid:\n",
      "    def __init__(self, size_N, matrix):\n",
      "        self.size = size_N\n",
      "        self.mat = matrix\n",
      "        \n",
      "    def check(self, (x, y)):\n",
      "        ch = []\n",
      "        if (y < 0):\n",
      "            for x in range(self.size):\n",
      "                ch.append((x, 0))\n",
      "        elif (y >= self.size):\n",
      "            for x in range(self.size):\n",
      "                ch.append((x, self.size - 1))\n",
      "        elif (x < 0):\n",
      "            ch.append((self.size - 1, y))\n",
      "        elif (x >= self.size):\n",
      "            ch.append((0, y))\n",
      "        else:\n",
      "            ch.append((x, y))\n",
      "        return ch\n",
      "        \n",
      "    def neighbours(self, (x, y)):\n",
      "        nb = []\n",
      "        nbs = []\n",
      "        nb_to_check = [(-1, 0), (1, 0), (0, -1), (0, 1)]\n",
      "        for i in nb_to_check:\n",
      "            temp = self.check((x + i[0], y + i[1]))\n",
      "            nb = list(itertools.chain(nb, temp))\n",
      "        nb = sorted(set(nb))\n",
      "        if (x, y) in nb:\n",
      "            nb.remove((x, y))\n",
      "        for i in nb:\n",
      "            if (self.mat[i[0]][i[1]] == 0):\n",
      "                nbs.append(i)\n",
      "        return nbs\n",
      "    \n",
      "    def cost(self, (x1, y1) ,(x2, y2)):\n",
      "        dist = sqrt((x1 - x2)*(x1 - x2) + (y1 - y2)*(y1 - y2))\n",
      "        dist = 1\n",
      "        return (dist)"
     ],
     "language": "python",
     "metadata": {},
     "outputs": [],
     "prompt_number": 62
    },
    {
     "cell_type": "heading",
     "level": 2,
     "metadata": {},
     "source": [
      "Realization of A* search algorithm"
     ]
    },
    {
     "cell_type": "markdown",
     "metadata": {},
     "source": [
      "Priority queue class which uses binary heaps."
     ]
    },
    {
     "cell_type": "code",
     "collapsed": false,
     "input": [
      "import heapq\n",
      "\n",
      "class PriorityQueue:\n",
      "   def __init__(self):\n",
      "      self.elements = []\n",
      "   \n",
      "   def empty(self):\n",
      "      return len(self.elements) == 0\n",
      "   \n",
      "   def put(self, item, priority):\n",
      "      heapq.heappush(self.elements, (priority, item))\n",
      "   \n",
      "   def get(self):\n",
      "      return heapq.heappop(self.elements)[1]"
     ],
     "language": "python",
     "metadata": {},
     "outputs": [],
     "prompt_number": 43
    },
    {
     "cell_type": "markdown",
     "metadata": {},
     "source": [
      "Function which determines heusristic for the algorithm. The heuristic function $h(n)$ tells A* an estimate of the minimum cost from any vertex $n$ to the goal. It\u2019s important to choose a good heuristic function.\n",
      "- At one extreme, if $h(n)$ is 0, then only g(n) plays a role, and A* turns into Dijkstra\u2019s algorithm, which is guaranteed to find a shortest path.\n",
      "- If $h(n)$ is always lower than (or equal to) the cost of moving from n to the goal, then A* is guaranteed to find a shortest path. The lower $h(n)$ is, the more node A* expands, making it slower.\n",
      "- If $h(n)$ is exactly equal to the cost of moving from n to the goal, then A* will only follow the best path and never expand anything else, making it very fast. Although you can\u2019t make this happen in all cases, you can make it exact in some special cases. It\u2019s nice to know that given perfect information, A* will behave perfectly.\n",
      "- If $h(n)$ is sometimes greater than the cost of moving from n to the goal, then A* is not guaranteed to find a shortest path, but it can run faster.\n",
      "- At the other extreme, if $h(n)$ is very high relative to $g(n)$, then only $h(n)$ plays a role, and A* turns into Greedy Best-First-Search."
     ]
    },
    {
     "cell_type": "code",
     "collapsed": false,
     "input": [
      "def heuristic(a, b, htype, size_N):\n",
      "    if htype == \"dijkstra\":\n",
      "        return 0    \n",
      "    (x1, y1) = a\n",
      "    (x2, y2) = b\n",
      "    if htype == \"manhattan\":\n",
      "        return abs(x1 - x2) + abs(y1 - y2)\n",
      "    if htype == \"chebyshev\":\n",
      "        return max(abs(x1 - x2), abs(y1 - y2))\n",
      "    if htype == \"euclid\":\n",
      "        return sqrt((x1 - x2)*(x1 - x2) + (y1 - y2)*(y1 - y2))\n",
      "    if htype == \"hexagonal\":\n",
      "        return abs(x1 - x2) + abs(y1 - y2) + abs(x1 + y1 - x2 - y2)\n",
      "    if htype == \"spherical\":\n",
      "        x_diff = abs(x1 - x2)\n",
      "        y_diff = min(abs(y1 - y2), (size_N - abs(y1 - y2)))\n",
      "        return x_diff + y_diff"
     ],
     "language": "python",
     "metadata": {},
     "outputs": [],
     "prompt_number": 44
    },
    {
     "cell_type": "markdown",
     "metadata": {},
     "source": [
      "Function which performs A*-search for given topology and heuristic. Parameters:\n",
      "- $M$ - grid for A*-search (Square_grid, Hexagonal_grid or Sphere_grid)\n",
      "- $start$ - coordinates of source to search path from\n",
      "- $goal$ - coordinates of goal to search path to\n",
      "- $htype$ - type of heuristic\n",
      "\n"
     ]
    },
    {
     "cell_type": "code",
     "collapsed": false,
     "input": [
      "def search(M, start, goal, htype):\n",
      "    frontier = PriorityQueue()\n",
      "    frontier.put(start, 0)\n",
      "    came_from = {}\n",
      "    cost_so_far = {}\n",
      "    came_from[start] = None\n",
      "    cost_so_far[start] = 0\n",
      "    \n",
      "    while not frontier.empty():\n",
      "        current = frontier.get()\n",
      "        \n",
      "        if current == goal:\n",
      "            break\n",
      "            \n",
      "        for next in M.neighbours(current):\n",
      "            new_cost = cost_so_far[current] + M.cost(current, next)\n",
      "            if next not in cost_so_far or new_cost < cost_so_far[next]:\n",
      "                cost_so_far[next] = new_cost \n",
      "                priority = new_cost + heuristic(next, goal, htype, M.size)\n",
      "                frontier.put(next, priority)\n",
      "                came_from[next] = current\n",
      "    if frontier.empty():\n",
      "        print \"Path from start to goal does not exist\"\n",
      "        return None\n",
      "    path = [goal]   \n",
      "    for i in path:\n",
      "        if came_from[i] == None:\n",
      "            break\n",
      "        path.append(came_from[i])\n",
      "    path.reverse() \n",
      "\n",
      "    return cost_so_far, path"
     ],
     "language": "python",
     "metadata": {},
     "outputs": [],
     "prompt_number": 48
    },
    {
     "cell_type": "heading",
     "level": 2,
     "metadata": {},
     "source": [
      "Experiment"
     ]
    },
    {
     "cell_type": "markdown",
     "metadata": {},
     "source": [
      "Function which generates random grid of size $size$_$N$ with sparsity $sparsity$ where nodes $1$ are distributed randomly on the grid. Start and goal nodes are also chosen randomly."
     ]
    },
    {
     "cell_type": "code",
     "collapsed": false,
     "input": [
      "from random import randint\n",
      "\n",
      "def gen_grid(size_N, sparsity):\n",
      "    grid = [[0 for i in range(size_N)] for i in range(size_N)] \n",
      "    count = int((size_N * size_N) * sparsity)\n",
      "\n",
      "    def grid_check():\n",
      "        p = True\n",
      "        while p:\n",
      "            x = randint(0, size_N - 1)\n",
      "            y = randint(0, size_N - 1)\n",
      "            if grid[x][y] == 0:\n",
      "                p = False\n",
      "        return (x, y)\n",
      "    \n",
      "    for i in range(count):\n",
      "        free = grid_check()\n",
      "        grid[free[0]][free[1]] = 1\n",
      "        \n",
      "    start = grid_check()\n",
      "    goal = start\n",
      "    while goal == start:\n",
      "        goal = grid_check()\n",
      "        \n",
      "    return size_N, grid, start, goal"
     ],
     "language": "python",
     "metadata": {},
     "outputs": [],
     "prompt_number": 67
    },
    {
     "cell_type": "code",
     "collapsed": false,
     "input": [
      "A = [[0 for i in range(8)] for i in range(8)]\n",
      "A[2][2] = 1\n",
      "A[3][2] = 1\n",
      "A[4][2] = 1\n",
      "A[2][3] = 1\n",
      "A[2][4] = 1\n",
      "A[3][4] = 1\n",
      "A[4][3] = 1\n",
      "A[4][4] = 1\n",
      "\n",
      "Mp = Sphere_grid(8, A)\n",
      "\n",
      "cf, path = search(Mp, (3, 3), (1, 1), \"spherical\")\n",
      "if cf is not None:\n",
      "    print len(cf)"
     ],
     "language": "python",
     "metadata": {},
     "outputs": [
      {
       "output_type": "stream",
       "stream": "stdout",
       "text": [
        "Path from start to goal does not exist\n"
       ]
      },
      {
       "ename": "TypeError",
       "evalue": "'NoneType' object is not iterable",
       "output_type": "pyerr",
       "traceback": [
        "\u001b[1;31m---------------------------------------------------------------------------\u001b[0m\n\u001b[1;31mTypeError\u001b[0m                                 Traceback (most recent call last)",
        "\u001b[1;32m<ipython-input-69-778fd47ae490>\u001b[0m in \u001b[0;36m<module>\u001b[1;34m()\u001b[0m\n\u001b[0;32m     11\u001b[0m \u001b[0mMp\u001b[0m \u001b[1;33m=\u001b[0m \u001b[0mSphere_grid\u001b[0m\u001b[1;33m(\u001b[0m\u001b[1;36m8\u001b[0m\u001b[1;33m,\u001b[0m \u001b[0mA\u001b[0m\u001b[1;33m)\u001b[0m\u001b[1;33m\u001b[0m\u001b[0m\n\u001b[0;32m     12\u001b[0m \u001b[1;33m\u001b[0m\u001b[0m\n\u001b[1;32m---> 13\u001b[1;33m \u001b[0mcf\u001b[0m\u001b[1;33m,\u001b[0m \u001b[0mpath\u001b[0m \u001b[1;33m=\u001b[0m \u001b[0msearch\u001b[0m\u001b[1;33m(\u001b[0m\u001b[0mMp\u001b[0m\u001b[1;33m,\u001b[0m \u001b[1;33m(\u001b[0m\u001b[1;36m3\u001b[0m\u001b[1;33m,\u001b[0m \u001b[1;36m3\u001b[0m\u001b[1;33m)\u001b[0m\u001b[1;33m,\u001b[0m \u001b[1;33m(\u001b[0m\u001b[1;36m1\u001b[0m\u001b[1;33m,\u001b[0m \u001b[1;36m1\u001b[0m\u001b[1;33m)\u001b[0m\u001b[1;33m,\u001b[0m \u001b[1;34m\"spherical\"\u001b[0m\u001b[1;33m)\u001b[0m\u001b[1;33m\u001b[0m\u001b[0m\n\u001b[0m\u001b[0;32m     14\u001b[0m \u001b[1;32mif\u001b[0m \u001b[0mcf\u001b[0m \u001b[1;32mis\u001b[0m \u001b[1;32mnot\u001b[0m \u001b[0mNone\u001b[0m\u001b[1;33m:\u001b[0m\u001b[1;33m\u001b[0m\u001b[0m\n\u001b[0;32m     15\u001b[0m     \u001b[1;32mprint\u001b[0m \u001b[0mlen\u001b[0m\u001b[1;33m(\u001b[0m\u001b[0mcf\u001b[0m\u001b[1;33m)\u001b[0m\u001b[1;33m\u001b[0m\u001b[0m\n",
        "\u001b[1;31mTypeError\u001b[0m: 'NoneType' object is not iterable"
       ]
      }
     ],
     "prompt_number": 69
    },
    {
     "cell_type": "code",
     "collapsed": false,
     "input": [],
     "language": "python",
     "metadata": {},
     "outputs": []
    }
   ],
   "metadata": {}
  }
 ]
}