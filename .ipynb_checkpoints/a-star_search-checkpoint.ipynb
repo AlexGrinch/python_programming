{
 "metadata": {
  "name": "",
  "signature": "sha256:cccefec6516158d1dcb546a180630ae7cd8edf75929441583481a08d48f2e272"
 },
 "nbformat": 3,
 "nbformat_minor": 0,
 "worksheets": [
  {
   "cells": [
    {
     "cell_type": "heading",
     "level": 1,
     "metadata": {},
     "source": [
      "A* search algorithm "
     ]
    },
    {
     "cell_type": "markdown",
     "metadata": {},
     "source": [
      "There are 3 classes which determine different topologies, but all of them are based on square matrix. Parameters:\n",
      "- $size$_$N$ - size of matrix in which hexagonal grid storages\n",
      "- $matrix$ - matrix which determines hexagonal grid filled with $0$ and $1$, where $0$ is free node and $1$ is engaged node"
     ]
    },
    {
     "cell_type": "heading",
     "level": 2,
     "metadata": {},
     "source": [
      "Square grid"
     ]
    },
    {
     "cell_type": "markdown",
     "metadata": {},
     "source": [
      "Class for working with square grid."
     ]
    },
    {
     "cell_type": "code",
     "collapsed": false,
     "input": [
      "from math import sqrt\n",
      "\n",
      "class Square_grid:\n",
      "    def __init__(self, size_N, matrix):\n",
      "        self.size = size_N\n",
      "        self.mat = matrix\n",
      "        \n",
      "    def check(self, (x, y)):\n",
      "        if (x < 0) or (x >= self.size) or (y < 0) or (y >= self.size) or (self.mat[x][y] == 1):\n",
      "            return False\n",
      "        else:\n",
      "            return True\n",
      "        \n",
      "    def neighbours(self, (x, y)):\n",
      "        nb = []\n",
      "        for i in range(-1, 2):\n",
      "            for j in range (-1, 2):\n",
      "                temp = (x + i, y + j)\n",
      "                if (self.check(temp)) and (i*i + j*j != 0):\n",
      "                    nb.append(temp)\n",
      "        return nb\n",
      "    \n",
      "    def cost(self, (x1, y1) ,(x2, y2)):\n",
      "        dist = sqrt((x1 - x2)*(x1 - x2) + (y1 - y2)*(y1 - y2))\n",
      "        #dist = 1\n",
      "        return (dist)"
     ],
     "language": "python",
     "metadata": {},
     "outputs": [],
     "prompt_number": 26
    },
    {
     "cell_type": "heading",
     "level": 2,
     "metadata": {},
     "source": [
      "Hexagonal grid"
     ]
    },
    {
     "cell_type": "code",
     "collapsed": false,
     "input": [
      "from IPython.display import HTML\n",
      "HTML('<iframe src=http://www.redblobgames.com/grids/hexagons/#map-storage width=1100 height=400></iframe>')"
     ],
     "language": "python",
     "metadata": {},
     "outputs": [
      {
       "html": [
        "<iframe src=http://www.redblobgames.com/grids/hexagons/#map-storage width=1100 height=400></iframe>"
       ],
       "metadata": {},
       "output_type": "pyout",
       "prompt_number": 1,
       "text": [
        "<IPython.core.display.HTML at 0x3f92d30>"
       ]
      }
     ],
     "prompt_number": 1
    },
    {
     "cell_type": "markdown",
     "metadata": {},
     "source": [
      "Class for working with hexagonal grid. "
     ]
    },
    {
     "cell_type": "code",
     "collapsed": false,
     "input": [
      "from math import sqrt\n",
      "\n",
      "class Hexagonal_grid:\n",
      "    def __init__(self, size_N, matrix):\n",
      "        self.size = size_N\n",
      "        self.mat = matrix\n",
      "        \n",
      "    def check(self, (x, y)):\n",
      "        if (x < 0) or (x >= self.size) or (y < 0) or (y >= self.size) or (self.mat[x][y] == 1):\n",
      "            return False\n",
      "        else:\n",
      "            return True\n",
      "        \n",
      "    def neighbours(self, (x, y)):\n",
      "        nb = []\n",
      "        nb_to_check = [(1, 0), (1, -1), (0, -1), (-1, 0), (-1, 1), (0, 1)]\n",
      "        for i in nb_to_check:\n",
      "            temp = (x + i[0], y + i[1])\n",
      "            if self.check(temp):\n",
      "                nb.append(temp)\n",
      "        return nb\n",
      "    \n",
      "    def cost(self, (x1, y1) ,(x2, y2)):\n",
      "        dist = sqrt((x1 - x2)*(x1 - x2) + (y1 - y2)*(y1 - y2))\n",
      "        dist = 1\n",
      "        return (dist)"
     ],
     "language": "python",
     "metadata": {},
     "outputs": [],
     "prompt_number": 3
    },
    {
     "cell_type": "heading",
     "level": 2,
     "metadata": {},
     "source": [
      "Square grid on sphere"
     ]
    },
    {
     "cell_type": "markdown",
     "metadata": {},
     "source": [
      "Class for working with square grid on sphere."
     ]
    },
    {
     "cell_type": "code",
     "collapsed": false,
     "input": [
      "from math import sqrt\n",
      "import itertools\n",
      "\n",
      "class Sphere_grid:\n",
      "    def __init__(self, size_N, matrix):\n",
      "        self.size = size_N\n",
      "        self.mat = matrix\n",
      "        \n",
      "    def check(self, (x, y)):\n",
      "        ch = []\n",
      "        if (y < 0):\n",
      "            for x in range(self.size):\n",
      "                ch.append((x, 0))\n",
      "        elif (y >= self.size):\n",
      "            for x in range(self.size):\n",
      "                ch.append((x, self.size - 1))\n",
      "        elif (x < 0):\n",
      "            ch.append((self.size - 1, y))\n",
      "        elif (x >= self.size):\n",
      "            ch.append((0, y))\n",
      "        else:\n",
      "            ch.append((x, y))\n",
      "        return ch\n",
      "        \n",
      "    def neighbours(self, (x, y)):\n",
      "        nb = []\n",
      "        nbs = []\n",
      "        nb_to_check = [(-1, 0), (1, 0), (0, -1), (0, 1)]\n",
      "        for i in nb_to_check:\n",
      "            temp = self.check((x + i[0], y + i[1]))\n",
      "            nb = list(itertools.chain(nb, temp))\n",
      "        nb = sorted(set(nb))\n",
      "        if (x, y) in nb:\n",
      "            nb.remove((x, y))\n",
      "        for i in nb:\n",
      "            if (self.mat[i[0]][i[1]] == 0):\n",
      "                nbs.append(i)\n",
      "        return nbs\n",
      "    \n",
      "    def cost(self, (x1, y1) ,(x2, y2)):\n",
      "        dist = sqrt((x1 - x2)*(x1 - x2) + (y1 - y2)*(y1 - y2))\n",
      "        dist = 1\n",
      "        return (dist)"
     ],
     "language": "python",
     "metadata": {},
     "outputs": [],
     "prompt_number": 4
    },
    {
     "cell_type": "heading",
     "level": 2,
     "metadata": {},
     "source": [
      "Realization of A* search algorithm"
     ]
    },
    {
     "cell_type": "markdown",
     "metadata": {},
     "source": [
      "Priority queue class which uses binary heaps."
     ]
    },
    {
     "cell_type": "code",
     "collapsed": false,
     "input": [
      "import heapq\n",
      "\n",
      "class PriorityQueue:\n",
      "   def __init__(self):\n",
      "      self.elements = []\n",
      "   \n",
      "   def empty(self):\n",
      "      return len(self.elements) == 0\n",
      "   \n",
      "   def put(self, item, priority):\n",
      "      heapq.heappush(self.elements, (priority, item))\n",
      "   \n",
      "   def get(self):\n",
      "      return heapq.heappop(self.elements)[1]"
     ],
     "language": "python",
     "metadata": {},
     "outputs": [],
     "prompt_number": 5
    },
    {
     "cell_type": "markdown",
     "metadata": {},
     "source": [
      "Function which determines heusristic for the algorithm. The heuristic function $h(n)$ tells A* an estimate of the minimum cost from any vertex $n$ to the goal. It\u2019s important to choose a good heuristic function.\n",
      "- At one extreme, if $h(n)$ is 0, then only g(n) plays a role, and A* turns into Dijkstra\u2019s algorithm, which is guaranteed to find a shortest path.\n",
      "- If $h(n)$ is always lower than (or equal to) the cost of moving from n to the goal, then A* is guaranteed to find a shortest path. The lower $h(n)$ is, the more node A* expands, making it slower.\n",
      "- If $h(n)$ is exactly equal to the cost of moving from n to the goal, then A* will only follow the best path and never expand anything else, making it very fast. Although you can\u2019t make this happen in all cases, you can make it exact in some special cases. It\u2019s nice to know that given perfect information, A* will behave perfectly.\n",
      "- If $h(n)$ is sometimes greater than the cost of moving from n to the goal, then A* is not guaranteed to find a shortest path, but it can run faster.\n",
      "- At the other extreme, if $h(n)$ is very high relative to $g(n)$, then only $h(n)$ plays a role, and A* turns into Greedy Best-First-Search."
     ]
    },
    {
     "cell_type": "code",
     "collapsed": false,
     "input": [
      "def heuristic(a, b, htype, size_N):\n",
      "    if htype == \"dijkstra\":\n",
      "        return 0    \n",
      "    (x1, y1) = a\n",
      "    (x2, y2) = b\n",
      "    if htype == \"manhattan\":\n",
      "        return abs(x1 - x2) + abs(y1 - y2)\n",
      "    if htype == \"chebyshev\":\n",
      "        return max(abs(x1 - x2), abs(y1 - y2))\n",
      "    if htype == \"euclid\":\n",
      "        return sqrt((x1 - x2)*(x1 - x2) + (y1 - y2)*(y1 - y2))\n",
      "    if htype == \"hexagonal\":\n",
      "        return abs(x1 - x2) + abs(y1 - y2) + abs(x1 + y1 - x2 - y2)\n",
      "    if htype == \"spherical\":\n",
      "        x_diff = abs(x1 - x2)\n",
      "        y_diff = min(abs(y1 - y2), (size_N - abs(y1 - y2)))\n",
      "        return x_diff + y_diff"
     ],
     "language": "python",
     "metadata": {},
     "outputs": [],
     "prompt_number": 6
    },
    {
     "cell_type": "markdown",
     "metadata": {},
     "source": [
      "Function which performs A*-search for given topology and heuristic. Parameters:\n",
      "- $M$ - grid for A*-search (Square_grid, Hexagonal_grid or Sphere_grid)\n",
      "- $start$ - coordinates of source to search path from\n",
      "- $goal$ - coordinates of goal to search path to\n",
      "- $htype$ - type of heuristic\n",
      "\n"
     ]
    },
    {
     "cell_type": "code",
     "collapsed": false,
     "input": [
      "def search(M, start, goal, htype):\n",
      "    frontier = PriorityQueue()\n",
      "    frontier.put(start, 0)\n",
      "    came_from = {}\n",
      "    cost_so_far = {}\n",
      "    came_from[start] = None\n",
      "    cost_so_far[start] = 0\n",
      "    \n",
      "    while not frontier.empty():\n",
      "        current = frontier.get()\n",
      "        \n",
      "        if current == goal:\n",
      "            break\n",
      "            \n",
      "        for next in M.neighbours(current):\n",
      "            new_cost = cost_so_far[current] + M.cost(current, next)\n",
      "            if next not in cost_so_far or new_cost < cost_so_far[next]:\n",
      "                cost_so_far[next] = new_cost \n",
      "                priority = new_cost + heuristic(next, goal, htype, M.size)\n",
      "                frontier.put(next, priority)\n",
      "                came_from[next] = current\n",
      "    if frontier.empty():\n",
      "        print \"Path from start to goal does not exist\"\n",
      "        return {}, []\n",
      "    path = [goal]   \n",
      "    for i in path:\n",
      "        if came_from[i] == None:\n",
      "            break\n",
      "        path.append(came_from[i])\n",
      "    path.reverse() \n",
      "\n",
      "    return cost_so_far, path"
     ],
     "language": "python",
     "metadata": {},
     "outputs": [],
     "prompt_number": 7
    },
    {
     "cell_type": "heading",
     "level": 2,
     "metadata": {},
     "source": [
      "Experiment"
     ]
    },
    {
     "cell_type": "markdown",
     "metadata": {},
     "source": [
      "Function which generates random grid of size $size$_$N$ with sparsity $sparsity$ where nodes $1$ are distributed randomly on the grid. Start and goal nodes are also chosen randomly."
     ]
    },
    {
     "cell_type": "code",
     "collapsed": false,
     "input": [
      "from random import randint\n",
      "\n",
      "def gen_grid(size_N, sparsity):\n",
      "    grid = [[0 for i in range(size_N)] for i in range(size_N)] \n",
      "    count = int((size_N * size_N) * sparsity)\n",
      "\n",
      "    def grid_check():\n",
      "        p = True\n",
      "        while p:\n",
      "            x = randint(0, size_N - 1)\n",
      "            y = randint(0, size_N - 1)\n",
      "            if grid[x][y] == 0:\n",
      "                p = False\n",
      "        return (x, y)\n",
      "    \n",
      "    for i in range(count):\n",
      "        free = grid_check()\n",
      "        grid[free[0]][free[1]] = 1\n",
      "        \n",
      "    start = grid_check()\n",
      "    goal = start\n",
      "    while goal == start:\n",
      "        goal = grid_check()\n",
      "        \n",
      "    return size_N, grid, start, goal"
     ],
     "language": "python",
     "metadata": {},
     "outputs": [],
     "prompt_number": 8
    },
    {
     "cell_type": "code",
     "collapsed": false,
     "input": [
      "sum = [0, 0, 0, 0]\n",
      "for i in range(30):\n",
      "    size_N, grid, start, goal = gen_grid(10, 0.2)\n",
      "    grd = Square_grid(size_N, grid)\n",
      "    htype = [\"dijkstra\", \"manhattan\", \"chebyshev\", \"euclid\"]\n",
      "    idx = 0\n",
      "    for h in htype:\n",
      "        csf, path = search(grd, start, goal, h)\n",
      "        sum[idx] += len(csf)\n",
      "        idx += 1\n",
      "sum"
     ],
     "language": "python",
     "metadata": {},
     "outputs": [
      {
       "output_type": "stream",
       "stream": "stdout",
       "text": [
        "Path from start to goal does not exist\n"
       ]
      },
      {
       "metadata": {},
       "output_type": "pyout",
       "prompt_number": 37,
       "text": [
        "[1395, 571, 710, 611]"
       ]
      }
     ],
     "prompt_number": 37
    },
    {
     "cell_type": "code",
     "collapsed": false,
     "input": [],
     "language": "python",
     "metadata": {},
     "outputs": [],
     "prompt_number": 12
    },
    {
     "cell_type": "code",
     "collapsed": false,
     "input": [],
     "language": "python",
     "metadata": {},
     "outputs": []
    }
   ],
   "metadata": {}
  }
 ]
}