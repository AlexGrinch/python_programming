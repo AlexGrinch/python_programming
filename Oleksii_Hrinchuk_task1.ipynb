{
 "cells": [
  {
   "cell_type": "markdown",
   "metadata": {},
   "source": [
    "## Imports"
   ]
  },
  {
   "cell_type": "code",
   "execution_count": 1,
   "metadata": {
    "collapsed": true
   },
   "outputs": [],
   "source": [
    "from gurobipy import *\n",
    "\n",
    "import numpy as np\n",
    "from numpy.matlib import repmat\n",
    "import scipy as sp\n",
    "import matplotlib.pyplot as plt\n",
    "import scipy.io as sio\n",
    "\n",
    "%matplotlib inline"
   ]
  },
  {
   "cell_type": "markdown",
   "metadata": {},
   "source": [
    "#### Problem statement"
   ]
  },
  {
   "cell_type": "markdown",
   "metadata": {},
   "source": [
    "Let us determine some variables to formalize our problem.\n",
    "$$\n",
    "F=\\left\\{f_i,~i=1,\\dots,m\\right\\}~-~\\text{facilities},\\\\\n",
    "C=\\left\\{c_j,~j=1,\\dots,n\\right\\}~-~\\text{clients},\\\\\n",
    "K=\\left\\{k_{ij}\\right\\},k_{ij}~-~\\text{cost of serving}~j_{th}~\\text{client in}~i_{th}~\\text{facility}, \\\\\n",
    "L=\\left\\{l_i\\right\\},~l_i~-~\\text{cost of}~i_{th}~\\text{facility opening}, \\\\\n",
    "S=\\left\\{s_i\\right\\},~s_i~-~\\text{maximal capacity of}~i_{th}~\\text{facility}, \\\\\n",
    "y_i = \\begin{cases} 0,~i_{th}~\\text{facility is closed}\\\\1,~i_{th}~\\text{facility is opened} \\end{cases},\\\\\n",
    "x_{ij} = \\begin{cases} 0,~j_{th}~\\text{client is not served in}~i_{th}~\\text{facility}\\\\1,~j_{th}~\\text{client is served in}~i_{th}~\\text{facility} \\end{cases}.\n",
    "$$\n",
    "Our problem will look like:\n",
    "$$\n",
    "\\sum_{i=1}^m y_i l_i + \\sum_{i=1}^m \\sum_{j=1}^n x_{ij} k_{ij} \\rightarrow \\min_{x,y}, \\\\\n",
    "\\sum_{i=1}^m x_{ij} = 1,~j=1,\\dots,n, \\\\\n",
    "\\sum_{j=1}^n x_{ij} \\leq s_i y_i.\n",
    "$$"
   ]
  },
  {
   "cell_type": "markdown",
   "metadata": {},
   "source": [
    "**Problem 1:** *Capacitated facility location.* \n",
    "\n",
    "You need to solve a *capacitated facility location* problem. There are a number of clients that can be served by a number of potential facilities. As in the case of a common (uncapacitated) facility location problem, you need to decide which facilities to open (paying the opening cost for each) and which clients to serve at each facility (paying the assignment cost). Each client must be assigned to one opened facility. In addition, you have a cap on how many clients each facility can serve. As usual, you want to minimize the costs.\n",
    "\n",
    "Implement the following algorithms and investigate them. Use the attached script to generate the data, and to visualize the results. You are supposed to play with different configurations and sizes of the problem. Please make your report detailed (otherwise lower amount of points then indicated may be assigned).\n",
    "\n",
    "* (2 points). Implement a **greedy algorithm** for the problem.\n",
    "* (3 points). Implement **some local optimization algorithm**. Try to design powerful moves that are at the same time easy to search through. **Important:** your move should connect the whole domain, i.e. for any pair of feasible solutions, there should exist a sequence of moves from the family you design that transform one solution to the other.\n",
    "* (3 points). Implement the **simulated annealing algorithm** based on the best of your local optimization algorithms. Play with the schedule and see how it affects the results. Compare with the local optimization algorithm that you base upon. Note, that if implemented correctly, simulated annealing should improve over the local optimization algorithm."
   ]
  },
  {
   "cell_type": "markdown",
   "metadata": {},
   "source": [
    "#### Data generation"
   ]
  },
  {
   "cell_type": "code",
   "execution_count": 2,
   "metadata": {
    "collapsed": false
   },
   "outputs": [],
   "source": [
    "np.random.seed(1)\n",
    "\n",
    "C = 20 # number of clients\n",
    "clients = np.random.rand(2,C) #client positions\n",
    "F = 15 #number of facilities\n",
    "facilities = np.random.rand(2,F)\n",
    "\n",
    "capacities = np.ones((F,), dtype=np.int)*4 #maximum number of clients per facility\n",
    "\n",
    "dx = repmat(clients[0,:],F,1) - repmat(facilities[0,:],C,1).transpose()\n",
    "dy = repmat(clients[1,:],F,1) - repmat(facilities[1,:],C,1).transpose()\n",
    "\n",
    "assignment_costs = np.zeros((F, C))\n",
    "assignment_costs = 3*(dx*dx + dy*dy) #the assignment cost is the distance squared\n",
    "\n",
    "opening_costs = np.ones((F,))"
   ]
  },
  {
   "cell_type": "markdown",
   "metadata": {},
   "source": [
    "#### Facility location class"
   ]
  },
  {
   "cell_type": "code",
   "execution_count": 3,
   "metadata": {
    "collapsed": false
   },
   "outputs": [],
   "source": [
    "class FacilityLocation:\n",
    "    \n",
    "    def __init__(self, C=C, F=F, assignment_costs=assignment_costs, \n",
    "                 opening_costs=opening_costs):\n",
    "        self.x = np.zeros((F, C), dtype=np.int)\n",
    "        self.y = np.zeros(F, dtype=np.int)      \n",
    "        \n",
    "    def total_cost(self):    \n",
    "        res = 0       \n",
    "        for i_f in xrange(F):\n",
    "            res += self.y[i_f] * opening_costs[i_f]       \n",
    "        for i_f in xrange(F):\n",
    "            for i_c in xrange(C):\n",
    "                res += self.x[i_f][i_c] * assignment_costs[i_f][i_c]          \n",
    "        return res\n",
    "    \n",
    "    def generate_solution(self, seed=1): \n",
    "        self.x = np.zeros((F, C), dtype=np.int)\n",
    "        self.y = np.zeros(F, dtype=np.int)     \n",
    "        np.random.seed(seed) \n",
    "        for i_c in xrange(C):\n",
    "            i_f = np.random.randint(F)          \n",
    "            while (self.x[i_f].sum() >= capacities[i_f]):\n",
    "                i_f = np.random.randint(F)\n",
    "            self.x[i_f][i_c] = 1\n",
    "            self.y[i_f] = 1\n",
    "                \n",
    "    def cost_change(self, i_c, old_fac, new_fac):         \n",
    "        if (self.x[new_fac].sum() == capacities[new_fac]):\n",
    "            return np.inf    \n",
    "        res = -assignment_costs[old_fac, i_c]\n",
    "        if (self.x[old_fac].sum() == 1):\n",
    "            res -= opening_costs[old_fac]\n",
    "        res += assignment_costs[new_fac, i_c]\n",
    "        if (self.x[new_fac].sum() == 0):\n",
    "            res += opening_costs[new_fac]           \n",
    "        return res\n",
    "    \n",
    "    def move_client(self, i_c, old_fac, new_fac):\n",
    "        self.x[old_fac][i_c] = 0\n",
    "        if (self.x[old_fac].sum() == 0):\n",
    "            self.y[old_fac] = 0\n",
    "        self.x[new_fac][i_c] = 1\n",
    "        if (self.x[new_fac].sum() == 1):\n",
    "            self.y[new_fac] = 1\n",
    "\n",
    "    def greedy_algorithm(self):\n",
    "        \n",
    "        costs = np.copy(assignment_costs)\n",
    "        self.x = np.zeros((F, C), dtype=np.int)\n",
    "        self.y = np.zeros(F, dtype=np.int)\n",
    "        greedy_values = np.zeros(F)\n",
    "        new_C = C\n",
    "  \n",
    "        while (new_C > 0):\n",
    "\n",
    "            for i_f in xrange(F):\n",
    "                if (self.y[i_f] == 0):\n",
    "                    max_capacity = min(capacities[i_f], new_C)\n",
    "                    greedy_values[i_f] = opening_costs[i_f] + np.mean(np.sort(costs[i_f])[:max_capacity])\n",
    "\n",
    "            chosen_facility = np.argmin(greedy_values)\n",
    "            chosen_clients = np.argsort(costs[chosen_facility])[:min(capacities[i_f], new_C)]\n",
    "            greedy_values[chosen_facility] = np.inf\n",
    "\n",
    "            self.y[chosen_facility] = 1\n",
    "            self.x[chosen_facility][chosen_clients] = 1\n",
    "            costs[:, chosen_clients] = np.inf\n",
    "\n",
    "            new_C = (costs[0]!=np.inf).sum()\n",
    "            \n",
    "    def local_search(self):\n",
    "        last_cost = np.inf\n",
    "        \n",
    "        while (last_cost > self.total_cost()):       \n",
    "            last_cost = self.total_cost()\n",
    "            \n",
    "            for i_c in xrange(C):\n",
    "                i_f = np.argmax(self.x[:, i_c])\n",
    "                best_change = 0\n",
    "                target_fac = i_f\n",
    "                \n",
    "                for fac in xrange(F):\n",
    "                    if (self.cost_change(i_c, i_f, fac) < best_change):\n",
    "                        best_change = self.cost_change(i_c, i_f, fac)\n",
    "                        target_fac = fac\n",
    "                self.move_client(i_c, i_f, target_fac)  \n",
    "                \n",
    "    def simulated_annealing(self, T0=100, gamma = .99, MAX_ITER=3000):\n",
    "        best_c = 0\n",
    "        best_cost = np.inf\n",
    "        T = T0\n",
    "        \n",
    "        for i in xrange(MAX_ITER):\n",
    "\n",
    "            for i_c in xrange(C):\n",
    "                i_f = np.argmax(self.x[:, i_c])\n",
    "            \n",
    "                fac = np.random.randint(F)\n",
    "                dE = self.cost_change(i_c, i_f, fac) \n",
    "                \n",
    "                if (np.exp(-dE / T) > np.random.random(1)[0]):                \n",
    "                    self.move_client(i_c, i_f, fac)\n",
    "                    \n",
    "            T = T * gamma    \n",
    "            \n",
    "    def visualize(self):\n",
    "        facilities_opened = [self.y[i_f] for i_f in range(F)]    \n",
    "        clients_assignment = [i_f for i_f in range(F) for i_c in range(C) if self.x[i_f][i_c] != 0]\n",
    "\n",
    "        print \"Objective =\", self.total_cost()\n",
    "        plt.scatter(clients[0,:], clients[1,:], s=50.0, c=clients_assignment)\n",
    "        plt.scatter(facilities[0,:], facilities[1,:], s=200.0, c=range(F), linewidth = [5*el for el in facilities_opened])\n",
    "        plt.show()"
   ]
  },
  {
   "cell_type": "markdown",
   "metadata": {},
   "source": [
    "#### Global optimum"
   ]
  },
  {
   "cell_type": "markdown",
   "metadata": {},
   "source": [
    "Below is the solution that uses a mixed-integer solver (we will come to that in week 3). You can use it as a reference for small instances (for which it will give you a global optimum), and also reuse the visualization code. "
   ]
  },
  {
   "cell_type": "code",
   "execution_count": 4,
   "metadata": {
    "collapsed": false
   },
   "outputs": [
    {
     "name": "stdout",
     "output_type": "stream",
     "text": [
      "Optimize a model with 50 rows, 315 columns and 645 nonzeros\n",
      "Coefficient statistics:\n",
      "  Matrix range    [1e+00, 4e+00]\n",
      "  Objective range [2e-04, 5e+00]\n",
      "  Bounds range    [1e+00, 1e+00]\n",
      "  RHS range       [1e+00, 1e+00]\n",
      "Found heuristic solution: objective 33.3461\n",
      "Presolve time: 0.00s\n",
      "Presolved: 50 rows, 315 columns, 645 nonzeros\n",
      "Variable types: 0 continuous, 315 integer (315 binary)\n",
      "\n",
      "Root relaxation: objective 6.503730e+00, 59 iterations, 0.00 seconds\n",
      "\n",
      "    Nodes    |    Current Node    |     Objective Bounds      |     Work\n",
      " Expl Unexpl |  Obj  Depth IntInf | Incumbent    BestBd   Gap | It/Node Time\n",
      "\n",
      "     0     0    6.50373    0   12   33.34610    6.50373  80.5%     -    0s\n",
      "H    0     0                      11.5023502    6.50373  43.5%     -    0s\n",
      "H    0     0                       8.1447511    6.50373  20.1%     -    0s\n",
      "     0     0    6.86502    0   26    8.14475    6.86502  15.7%     -    0s\n",
      "H    0     0                       7.9698679    6.86502  13.9%     -    0s\n",
      "     0     0    7.01939    0   27    7.96987    7.01939  11.9%     -    0s\n",
      "     0     0    7.17619    0    2    7.96987    7.17619  10.0%     -    0s\n",
      "     0     0    7.17619    0   12    7.96987    7.17619  10.0%     -    0s\n",
      "     0     0    7.17619    0   26    7.96987    7.17619  10.0%     -    0s\n",
      "     0     0    7.17619    0    7    7.96987    7.17619  10.0%     -    0s\n",
      "     0     0    7.19878    0   23    7.96987    7.19878  9.68%     -    0s\n",
      "     0     0    7.25223    0   11    7.96987    7.25223  9.00%     -    0s\n",
      "     0     0    7.28325    0   47    7.96987    7.28325  8.62%     -    0s\n",
      "     0     0    7.28993    0   14    7.96987    7.28993  8.53%     -    0s\n",
      "     0     0    7.30088    0   22    7.96987    7.30088  8.39%     -    0s\n",
      "     0     0    7.31947    0   36    7.96987    7.31947  8.16%     -    0s\n",
      "H    0     0                       7.9022676    7.31947  7.38%     -    0s\n",
      "     0     0    7.31947    0   11    7.90227    7.31947  7.38%     -    0s\n",
      "     0     0    7.31947    0   20    7.90227    7.31947  7.38%     -    0s\n",
      "     0     0    7.31947    0   18    7.90227    7.31947  7.38%     -    0s\n",
      "     0     0    7.31947    0   21    7.90227    7.31947  7.38%     -    0s\n",
      "     0     0    7.31947    0   25    7.90227    7.31947  7.38%     -    0s\n",
      "     0     0    7.33438    0   46    7.90227    7.33438  7.19%     -    0s\n",
      "     0     0    7.34141    0   23    7.90227    7.34141  7.10%     -    0s\n",
      "     0     0    7.35418    0   41    7.90227    7.35418  6.94%     -    0s\n",
      "     0     0    7.35796    0   48    7.90227    7.35796  6.89%     -    0s\n",
      "     0     0    7.35851    0   54    7.90227    7.35851  6.88%     -    0s\n",
      "     0     2    7.35851    0   54    7.90227    7.35851  6.88%     -    0s\n",
      "*   92    22              17       7.7210987    7.39172  4.27%   4.6    0s\n",
      "*  168     0              10       7.7098748    7.39795  4.05%   4.2    0s\n",
      "*  180     0               8       7.6689838    7.39795  3.53%   4.2    0s\n",
      "*  290     8               7       7.5711129    7.41264  2.09%   4.2    0s\n",
      "\n",
      "Cutting planes:\n",
      "  Gomory: 6\n",
      "  Cover: 24\n",
      "  Clique: 9\n",
      "  MIR: 2\n",
      "\n",
      "Explored 356 nodes (1822 simplex iterations) in 0.27 seconds\n",
      "Thread count was 4 (of 4 available processors)\n",
      "\n",
      "Optimal solution found (tolerance 1.00e-04)\n",
      "Best objective 7.571112923135e+00, best bound 7.571112923135e+00, gap 0.0%\n"
     ]
    },
    {
     "data": {
      "image/png": "[encoded data removed]",
      "text/plain": [
       "<matplotlib.figure.Figure at 0x7040ef0>"
      ]
     },
     "metadata": {},
     "output_type": "display_data"
    }
   ],
   "source": [
    "# create the model\n",
    "m = Model(\"facility\")\n",
    "\n",
    "y = []\n",
    "for i_f in range(F):\n",
    "    y.append(m.addVar(vtype=GRB.BINARY))\n",
    "\n",
    "x = []    \n",
    "for i_f in range(F):\n",
    "    x.append([])\n",
    "    for i_c in range(C):\n",
    "        x[i_f].append(m.addVar(vtype=GRB.BINARY))\n",
    "\n",
    "# the objective is to minimize the total fixed and variable costs\n",
    "m.modelSense = GRB.MINIMIZE\n",
    "\n",
    "# update model to integrate new variables\n",
    "m.update()\n",
    "\n",
    "# set optimization objective - minimize sum of fixed costs\n",
    "obj_summands = []\n",
    "for i_f in range(F):\n",
    "    obj_summands.append(opening_costs[i_f]*y[i_f])\n",
    "    \n",
    "for i_f in range(F):\n",
    "    for i_c in range(C):\n",
    "        obj_summands.append(assignment_costs[i_f][i_c]*x[i_f][i_c])\n",
    "\n",
    "m.setObjective(quicksum(obj_summands))  \n",
    "\n",
    "# set constraints\n",
    "for i_c in range(C):\n",
    "    client_constr_summands = [x[i_f][i_c] for i_f in range(F)]\n",
    "    m.addConstr(sum(client_constr_summands), GRB.EQUAL, 1.0)\n",
    "        \n",
    "for i_f in range(F):        \n",
    "    facility_constr_summands = [x[i_f][i_c] for i_c in range(C)]\n",
    "    m.addConstr(sum(facility_constr_summands), GRB.LESS_EQUAL, capacities[i_f]*y[i_f])       \n",
    "\n",
    "for i_f in range(F):        \n",
    "    facility_constr_summands = [x[i_f][i_c] for i_c in range(C)]\n",
    "    m.addConstr(max(facility_constr_summands), GRB.LESS_EQUAL, y[i_f])     \n",
    "\n",
    "# optimize\n",
    "  \n",
    "m.optimize()\n",
    "\n",
    "# plot the solution\n",
    "facilities_opened = [y[i_f].X for i_f in range(F)]    \n",
    "clients_assignment = [i_f for i_f in range(F) for i_c in range(C) if x[i_f][i_c].X != 0]\n",
    "    \n",
    "plt.scatter(clients[0,:], clients[1,:], s=50.0, c=clients_assignment)\n",
    "plt.scatter(facilities[0,:], facilities[1,:], s=200.0, c=range(F), linewidth = [5*el for el in facilities_opened])\n",
    "plt.show()"
   ]
  },
  {
   "cell_type": "markdown",
   "metadata": {},
   "source": [
    "#### Greedy algoritm"
   ]
  },
  {
   "cell_type": "markdown",
   "metadata": {},
   "source": [
    "The idea of our **greedy algorithm** is following. When we open new facility we try to fill it with clients to its capacity. The point is which facilities we will open. For each facility $i$ we sort clients in ascending costs order and calculate the average cost of its first $s_j$ cheapest clients. Then we sum this value with $l_i$ and choose facility with such minimal value. Then we fill this facility with clients and recalculate our data."
   ]
  },
  {
   "cell_type": "code",
   "execution_count": 8,
   "metadata": {
    "collapsed": false
   },
   "outputs": [
    {
     "name": "stdout",
     "output_type": "stream",
     "text": [
      "Objective = 9.02558149965\n"
     ]
    },
    {
     "data": {
      "image/png": "[encoded data removed]",
      "text/plain": [
       "<matplotlib.figure.Figure at 0x3c24048>"
      ]
     },
     "metadata": {},
     "output_type": "display_data"
    }
   ],
   "source": [
    "sol1 = FacilityLocation()\n",
    "sol1.greedy_algorithm()\n",
    "sol1.visualize()"
   ]
  },
  {
   "cell_type": "markdown",
   "metadata": {},
   "source": [
    "#### Local search"
   ]
  },
  {
   "cell_type": "markdown",
   "metadata": {},
   "source": [
    "Let us look at some feasible solution (where each client is served in some facility). If we move one client from one facility to another we will get another feasible solution. It is easy to see that such moves can give us any possible feasible solution, so they connect the whole domain. \n",
    "\n",
    "The idea of our **local search algorithm** is following. At first we fill some facilities with clients to get some solution of our problem. Then we choose the first client and look at all facilities we can move him to. We move him to the best possible facility (facility which will decrease our current total cost the most), choose the second client and so on. After several iterations there will be no such possible moves and we will stop."
   ]
  },
  {
   "cell_type": "code",
   "execution_count": 9,
   "metadata": {
    "collapsed": false
   },
   "outputs": [
    {
     "name": "stdout",
     "output_type": "stream",
     "text": [
      "Objective = 9.68866798368\n"
     ]
    },
    {
     "data": {
      "image/png": "[encoded data removed]",
      "text/plain": [
       "<matplotlib.figure.Figure at 0x7615278>"
      ]
     },
     "metadata": {},
     "output_type": "display_data"
    }
   ],
   "source": [
    "sol2 = FacilityLocation()\n",
    "sol2.generate_solution(1)\n",
    "sol2.local_search()\n",
    "sol2.visualize()"
   ]
  },
  {
   "cell_type": "markdown",
   "metadata": {},
   "source": [
    "#### Simulated annealing"
   ]
  },
  {
   "cell_type": "code",
   "execution_count": 10,
   "metadata": {
    "collapsed": false
   },
   "outputs": [
    {
     "name": "stdout",
     "output_type": "stream",
     "text": [
      "Objective = 8.39205942967\n"
     ]
    },
    {
     "data": {
      "image/png": "[encoded data removed]",
      "text/plain": [
       "<matplotlib.figure.Figure at 0x1510a7f0>"
      ]
     },
     "metadata": {},
     "output_type": "display_data"
    }
   ],
   "source": [
    "sol3 = FacilityLocation()\n",
    "sol3.generate_solution(1)\n",
    "sol3.simulated_annealing()\n",
    "sol3.visualize()"
   ]
  },
  {
   "cell_type": "markdown",
   "metadata": {},
   "source": [
    "#### Experiments"
   ]
  },
  {
   "cell_type": "markdown",
   "metadata": {},
   "source": [
    "Now we can compare conduct of different algorithms."
   ]
  },
  {
   "cell_type": "code",
   "execution_count": 46,
   "metadata": {
    "collapsed": true
   },
   "outputs": [],
   "source": [
    "points = 10\n",
    "ls_sol = FacilityLocation()\n",
    "sa_sol = FacilityLocation()\n",
    "gr_sol = FacilityLocation()\n",
    "ls = np.zeros(points)\n",
    "sa = np.zeros(points)\n",
    "global_min = np.ones(points) * 7.57"
   ]
  },
  {
   "cell_type": "code",
   "execution_count": 47,
   "metadata": {
    "collapsed": true
   },
   "outputs": [],
   "source": [
    "gr_sol.greedy_algorithm()\n",
    "gr = np.ones(points) * gr_sol.total_cost()"
   ]
  },
  {
   "cell_type": "code",
   "execution_count": 48,
   "metadata": {
    "collapsed": false
   },
   "outputs": [],
   "source": [
    "for i in xrange(points):\n",
    "    ls_sol.generate_solution(i)\n",
    "    ls_sol.local_search()\n",
    "    ls[i] = ls_sol.total_cost()"
   ]
  },
  {
   "cell_type": "code",
   "execution_count": 49,
   "metadata": {
    "collapsed": false
   },
   "outputs": [
    {
     "name": "stderr",
     "output_type": "stream",
     "text": [
      "C:\\Anaconda\\lib\\site-packages\\ipykernel\\__main__.py:104: RuntimeWarning: overflow encountered in exp\n"
     ]
    }
   ],
   "source": [
    "for i in xrange(10):\n",
    "    sa_sol.generate_solution(i)\n",
    "    sa_sol.simulated_annealing()\n",
    "    sa[i] = sa_sol.total_cost()"
   ]
  },
  {
   "cell_type": "code",
   "execution_count": 59,
   "metadata": {
    "collapsed": false
   },
   "outputs": [
    {
     "data": {
      "image/png": "[encoded data removed]",
      "text/plain": [
       "<matplotlib.figure.Figure at 0x167e0cc0>"
      ]
     },
     "metadata": {},
     "output_type": "display_data"
    }
   ],
   "source": [
    "fig, ax = plt.subplots(figsize = (15, 5))\n",
    "ax.plot(ls, 'ro', label = 'local search')\n",
    "ax.plot(sa, 'ro', color = 'b', label = 'simulated annealing')\n",
    "ax.plot(global_min, 'ro', color = 'g', label = 'global minimum')\n",
    "ax.plot(gr, 'ro', color = 'y', label = 'greedy algorithm')\n",
    "ax.set_xlabel('seed for random initialization', fontsize = 14)\n",
    "ax.set_ylabel('objective', fontsize = 14)\n",
    "ax.legend(loc = 2)\n",
    "ax.grid(True)"
   ]
  },
  {
   "cell_type": "markdown",
   "metadata": {},
   "source": [
    "We can see that simulated annealing finds better solutions than local search and greedy agorithm, but it is much slower. Local search algorithm often finds worse solution than greedy algorithm because it highly depends on initialization (simulated annealing too). But we can initialize local search algorithm by greedy algorithm solution and get better result. "
   ]
  },
  {
   "cell_type": "code",
   "execution_count": 55,
   "metadata": {
    "collapsed": false
   },
   "outputs": [
    {
     "name": "stdout",
     "output_type": "stream",
     "text": [
      "8.69482161537\n"
     ]
    }
   ],
   "source": [
    "ls2 = FacilityLocation()\n",
    "ls2.greedy_algorithm()\n",
    "ls2.local_search()\n",
    "print ls2.total_cost()"
   ]
  },
  {
   "cell_type": "markdown",
   "metadata": {},
   "source": [
    "________________________________________________________________________________________________________________________________"
   ]
  },
  {
   "cell_type": "markdown",
   "metadata": {
    "collapsed": true
   },
   "source": [
    "** Problem 2 **: *Optimal vehicle speed scheduling (6 points) *-- (based on an additional exercise A3.20 to Boyd and Vandenberghe). \n",
    "\n",
    "A vehicle (say, an airplane) travels along a fixed path of $n$ segments, between $n + 1$ waypoints labeled $0, . . . , n$. Segment $i$ starts at waypoint $i − 1$ and terminates at waypoint $i$. The vehicle starts at time $t = 0$ at waypoint $0$. It travels over each segment at a constant (nonnegative) speed; $s_i$ is the speed on segment $i$. We have lower and upper limits on the speeds: $s_{min} \\leq s \\leq s_{max}$. The vehicle does not stop at the waypoints; it simply proceeds to the next segment. The travel distance of segment $i$ is $d_i$ (which is positive), so the travel time over segment $i$ is $\\frac{d_i}{s_i}$. We let $\\tau_i$, $i = 1, \\dots, n$, denote the time at which the vehicle arrives at waypoint $i$. The vehicle is required to arrive at waypoint $i$, for $i = 1, \\dots, n$, between times $\\tau_{min,i}$ and $\\tau_{max,i}$ , which are given. The vehicle consumes fuel over segment $i$ at a rate that depends on its speed $\\Phi(s_i)=a s_i^2+b s_i+c,~[\\Phi]=\\frac{kg}{s}$.\n",
    "\n",
    "You are given the data $d$ (segment travel distances), $s_{min}$ and $s_{max}$ (speed bounds), $\\tau_{min}$ and $\\tau_{max}$ (waypoint arrival time bounds), and the the parameters $a$, $b$, and $c$ (all parameters are in $\\textbf{veh_speed_sched_data.m}$). Use the dynamic programming approach to find the schedule that allows spending the minimal amount of fuel. Use matplotlib command $\\textbf{step}$ to plot speed vs time for the optimal schedule. You will need to discretize some continuous variables, make sure you do it densely enough. **NB**: later in the course we will get back to this problem and attack it with a different method.\n"
   ]
  },
  {
   "cell_type": "markdown",
   "metadata": {},
   "source": [
    "#### Problem statement"
   ]
  },
  {
   "cell_type": "markdown",
   "metadata": {},
   "source": [
    "Let us formalize our problem to understand how to organize dynamic programming. Our problem can be written in the following way:\n",
    "$$\n",
    "\\begin{cases}\n",
    "\\sum_{i=1}^n \\Phi(s_i)(\\tau_i-\\tau_{i-1}) \\rightarrow \\min_{s_i,\\tau_i} \\\\\n",
    "(\\tau_i-\\tau_{i-1}) s_i = d_i, \\\\\n",
    "\\tau_{min,i} \\leq \\tau_i \\leq \\tau_{max,i}, \\\\\n",
    "s_{min,i} \\leq s_i \\leq s_{max,i}, \\\\\n",
    "i=1,\\dots,n.\n",
    "\\end{cases}\n",
    "\\Rightarrow\n",
    "\\begin{cases}\n",
    "\\sum_{i=1}^n \\Phi(\\frac{d_i}{\\tau_i - \\tau_{i-1}})(\\tau_i-\\tau_{i-1}) \\rightarrow \\min_{\\tau_i} \\\\\n",
    "\\tau_{min,i} \\leq \\tau_i \\leq \\tau_{max,i}, \\\\\n",
    "s_{min,i} \\leq \\frac{d_i}{\\tau_i - \\tau_{i-1}} \\leq s_{max,i}, \\\\\n",
    "i=1,\\dots,n.\n",
    "\\end{cases}\n",
    "$$\n",
    "We can organize dynamic programming in the following way. We divide each interval of time $[\\tau_{min, i},\\tau_{max,i}]$ by $N$ equal parts and count on each step $i = 1, \\dots, n$ the minimal amount of fuel for each such part (we compare all possible ways from previous interval parts and choose the cheapest one)."
   ]
  },
  {
   "cell_type": "markdown",
   "metadata": {},
   "source": [
    "#### Reading data"
   ]
  },
  {
   "cell_type": "code",
   "execution_count": 121,
   "metadata": {
    "collapsed": false
   },
   "outputs": [],
   "source": [
    "mat_contents = sio.loadmat('veh_sched_data.mat')\n",
    "\n",
    "a = mat_contents['a'][0, 0]\n",
    "b = mat_contents['b'][0, 0]\n",
    "c = mat_contents['c'][0, 0]\n",
    "d = mat_contents['d']\n",
    "n = mat_contents['n'][0, 0]\n",
    "s_min = mat_contents['smin']\n",
    "s_max = mat_contents['smax']\n",
    "tau_min = mat_contents['tau_min']\n",
    "tau_max = mat_contents['tau_max']"
   ]
  },
  {
   "cell_type": "markdown",
   "metadata": {},
   "source": [
    "#### Solution"
   ]
  },
  {
   "cell_type": "code",
   "execution_count": 122,
   "metadata": {
    "collapsed": false
   },
   "outputs": [],
   "source": [
    "def fuel(i, speed):\n",
    "    return (d[i] * ((a * speed) + b + c / speed))[0]\n",
    "\n",
    "def schedule(N = 100):\n",
    "    F = np.zeros((n+1, N))\n",
    "    T = np.zeros((n+1, N))\n",
    "    W = np.zeros((n+1, N)).astype(int)\n",
    "    t = np.zeros(n)\n",
    "    \n",
    "    for i in xrange(1, n+1):\n",
    "\n",
    "        delta = (tau_max[i-1, 0] - tau_min[i-1, 0]) / N\n",
    "        T[i] = np.array([tau_min[i-1, 0] + delta*x for x in xrange(N)])\n",
    "\n",
    "        for tau_new in xrange(N):       \n",
    "            F[i, tau_new] = np.inf\n",
    "\n",
    "            for tau_old in xrange(N):     \n",
    "                s = d[i-1, 0] / (T[i, tau_new]-T[i-1, tau_old])\n",
    "                if (s_min[i-1, 0] <= s and s <= s_max[i-1, 0]):\n",
    "                    f = fuel(i-1, s)\n",
    "                    if (F[i-1, tau_old] + f < F[i, tau_new]):\n",
    "                        F[i, tau_new] = F[i-1, tau_old] + f\n",
    "                        W[i, tau_new] = tau_old\n",
    "\n",
    "    cur = np.argmin(F[n])\n",
    "    for i in xrange(n-1, 0, -1):\n",
    "        t[i] = T[i, cur]\n",
    "        cur = W[i, cur]\n",
    "\n",
    "    s = np.zeros(n)\n",
    "    s[0] = d[0, 0] / t[0]\n",
    "    for i in xrange(1, n):\n",
    "        s[i] = d[i, 0] / (t[i] - t[i-1])\n",
    "    \n",
    "    return t, s, min(F[n])"
   ]
  },
  {
   "cell_type": "code",
   "execution_count": 123,
   "metadata": {
    "collapsed": false
   },
   "outputs": [
    {
     "name": "stderr",
     "output_type": "stream",
     "text": [
      "C:\\Anaconda\\lib\\site-packages\\ipykernel\\__main__.py:32: RuntimeWarning: divide by zero encountered in double_scalars\n"
     ]
    }
   ],
   "source": [
    "res = np.array([schedule(x)[2] for x in np.arange(100, 151, 5)])"
   ]
  },
  {
   "cell_type": "code",
   "execution_count": 124,
   "metadata": {
    "collapsed": false
   },
   "outputs": [
    {
     "data": {
      "text/plain": [
       "array([ 2617.96014942,  2617.95620498,  2617.98550045,  2617.98507264,\n",
       "        2617.95871606,  2617.95036974,  2617.94204435,  2617.92862486,\n",
       "        2617.91715065,  2617.92478049,  2617.91092482])"
      ]
     },
     "execution_count": 124,
     "metadata": {},
     "output_type": "execute_result"
    }
   ],
   "source": [
    "res"
   ]
  },
  {
   "cell_type": "markdown",
   "metadata": {},
   "source": [
    "We see that solution almost doesn't change when we increase the number of interval parts $N$ from $100$ to $150$, so the time is discretized well enough and we can use $N=100$ to find the best schedule for our problem."
   ]
  },
  {
   "cell_type": "code",
   "execution_count": 125,
   "metadata": {
    "collapsed": false
   },
   "outputs": [
    {
     "name": "stderr",
     "output_type": "stream",
     "text": [
      "C:\\Anaconda\\lib\\site-packages\\ipykernel\\__main__.py:32: RuntimeWarning: divide by zero encountered in double_scalars\n"
     ]
    }
   ],
   "source": [
    "time, speed, result = schedule()"
   ]
  },
  {
   "cell_type": "code",
   "execution_count": 126,
   "metadata": {
    "collapsed": false
   },
   "outputs": [
    {
     "name": "stdout",
     "output_type": "stream",
     "text": [
      "Minimal amount of fuel is equal to 2617.96014942\n"
     ]
    },
    {
     "data": {
      "image/png": "[encoded data removed]",
      "text/plain": [
       "<matplotlib.figure.Figure at 0x24e72b0>"
      ]
     },
     "metadata": {},
     "output_type": "display_data"
    }
   ],
   "source": [
    "fig, ax = plt.subplots(figsize=(15, 5))\n",
    "ax.step(time, speed, lw=2)\n",
    "ax.set_xlabel(\"time\", fontsize=14)\n",
    "ax.set_ylabel(\"speed\", fontsize=14)\n",
    "ax.grid(True)\n",
    "print \"Minimal amount of fuel is equal to\", result"
   ]
  }
 ],
 "metadata": {
  "kernelspec": {
   "display_name": "Python 2",
   "language": "python",
   "name": "python2"
  },
  "language_info": {
   "codemirror_mode": {
    "name": "ipython",
    "version": 2
   },
   "file_extension": ".py",
   "mimetype": "text/x-python",
   "name": "python",
   "nbconvert_exporter": "python",
   "pygments_lexer": "ipython2",
   "version": "2.7.10"
  }
 },
 "nbformat": 4,
 "nbformat_minor": 0
}
